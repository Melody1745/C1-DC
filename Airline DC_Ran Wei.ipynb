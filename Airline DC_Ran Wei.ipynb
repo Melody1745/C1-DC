{
 "cells": [
  {
   "cell_type": "code",
   "execution_count": 2,
   "id": "15c106dc-d81e-4829-b7bf-fd7fb466ce0f",
   "metadata": {},
   "outputs": [],
   "source": [
    "import pandas as pd\n",
    "from pandas_profiling import ProfileReport\n",
    "import numpy as np\n",
    "import seaborn as sns\n",
    "import matplotlib.pyplot as plt\n",
    "import matplotlib.ticker as ticker\n",
    "from sklearn.preprocessing import MinMaxScaler\n",
    "import warnings\n",
    "warnings.filterwarnings('ignore')\n",
    "\n",
    "%matplotlib inline\n",
    "pd.options.display.float_format = '{:.2f}'.format"
   ]
  },
  {
   "cell_type": "markdown",
   "id": "b65b7cb4-1045-4830-91ef-af8cbea5b750",
   "metadata": {},
   "source": [
    "# 1. Data Importing & Wrangling"
   ]
  },
  {
   "cell_type": "markdown",
   "id": "4fbf3cf8-79bf-47a1-8b0e-bc8bd12da08e",
   "metadata": {
    "tags": []
   },
   "source": [
    "## 1.1 Import data and drop duplicates"
   ]
  },
  {
   "cell_type": "code",
   "execution_count": 3,
   "id": "8b4cd502-8dbe-48f6-bb58-b219ed0fa306",
   "metadata": {},
   "outputs": [],
   "source": [
    "# import data and drop duplicates\n",
    "def import_data(file_name):\n",
    "    df = pd.read_csv(f'Data/{file_name}', low_memory=False)\n",
    "    \n",
    "    print(f\"The original file '{file_name}' has {len(df)} records.\")\n",
    "    df_dropped = df.drop_duplicates()\n",
    "    print(f\"{len(df)-len(df_dropped)} duplicates are detected and dropped, remaining {len(df_dropped)} records.\\n\")\n",
    "    \n",
    "    return df_dropped"
   ]
  },
  {
   "cell_type": "code",
   "execution_count": 4,
   "id": "9a801476-7569-4ca0-a3c5-4516a6b826a6",
   "metadata": {},
   "outputs": [
    {
     "name": "stdout",
     "output_type": "stream",
     "text": [
      "The original file 'Airport_Codes.csv' has 55369 records.\n",
      "101 duplicates are detected and dropped, remaining 55268 records.\n",
      "\n",
      "The original file 'Flights.csv' has 1915886 records.\n",
      "4545 duplicates are detected and dropped, remaining 1911341 records.\n",
      "\n",
      "The original file 'Tickets.csv' has 1167285 records.\n",
      "71898 duplicates are detected and dropped, remaining 1095387 records.\n",
      "\n"
     ]
    }
   ],
   "source": [
    "airport = import_data('Airport_Codes.csv')\n",
    "flights = import_data('Flights.csv')\n",
    "tickets = import_data('Tickets.csv')"
   ]
  },
  {
   "cell_type": "markdown",
   "id": "fd85bb8a-8f08-4220-b47f-181d82bd3a2c",
   "metadata": {},
   "source": [
    "## 1.2 Filter out unnecessary columns and records"
   ]
  },
  {
   "cell_type": "code",
   "execution_count": 5,
   "id": "5be52bda-3a3f-467a-8b48-f2945b273f4d",
   "metadata": {},
   "outputs": [
    {
     "data": {
      "text/html": [
       "<div>\n",
       "<style scoped>\n",
       "    .dataframe tbody tr th:only-of-type {\n",
       "        vertical-align: middle;\n",
       "    }\n",
       "\n",
       "    .dataframe tbody tr th {\n",
       "        vertical-align: top;\n",
       "    }\n",
       "\n",
       "    .dataframe thead th {\n",
       "        text-align: right;\n",
       "    }\n",
       "</style>\n",
       "<table border=\"1\" class=\"dataframe\">\n",
       "  <thead>\n",
       "    <tr style=\"text-align: right;\">\n",
       "      <th></th>\n",
       "      <th>TYPE</th>\n",
       "      <th>NAME</th>\n",
       "      <th>IATA_CODE</th>\n",
       "      <th>Longitude</th>\n",
       "      <th>Latitude</th>\n",
       "    </tr>\n",
       "  </thead>\n",
       "  <tbody>\n",
       "    <tr>\n",
       "      <th>6194</th>\n",
       "      <td>medium_airport</td>\n",
       "      <td>Aleknagik / New Airport</td>\n",
       "      <td>WKK</td>\n",
       "      <td>-158.62</td>\n",
       "      <td>59.28</td>\n",
       "    </tr>\n",
       "    <tr>\n",
       "      <th>25963</th>\n",
       "      <td>medium_airport</td>\n",
       "      <td>South Alabama Regional At Bill Benton Field Ai...</td>\n",
       "      <td>NaN</td>\n",
       "      <td>-86.39</td>\n",
       "      <td>31.31</td>\n",
       "    </tr>\n",
       "    <tr>\n",
       "      <th>26143</th>\n",
       "      <td>medium_airport</td>\n",
       "      <td>Lehigh Valley International Airport</td>\n",
       "      <td>ABE</td>\n",
       "      <td>-75.44</td>\n",
       "      <td>40.65</td>\n",
       "    </tr>\n",
       "    <tr>\n",
       "      <th>26144</th>\n",
       "      <td>medium_airport</td>\n",
       "      <td>Abilene Regional Airport</td>\n",
       "      <td>ABI</td>\n",
       "      <td>-99.68</td>\n",
       "      <td>32.41</td>\n",
       "    </tr>\n",
       "    <tr>\n",
       "      <th>26145</th>\n",
       "      <td>large_airport</td>\n",
       "      <td>Albuquerque International Sunport</td>\n",
       "      <td>ABQ</td>\n",
       "      <td>-106.61</td>\n",
       "      <td>35.04</td>\n",
       "    </tr>\n",
       "  </tbody>\n",
       "</table>\n",
       "</div>"
      ],
      "text/plain": [
       "                 TYPE                                               NAME  \\\n",
       "6194   medium_airport                            Aleknagik / New Airport   \n",
       "25963  medium_airport  South Alabama Regional At Bill Benton Field Ai...   \n",
       "26143  medium_airport                Lehigh Valley International Airport   \n",
       "26144  medium_airport                           Abilene Regional Airport   \n",
       "26145   large_airport                  Albuquerque International Sunport   \n",
       "\n",
       "      IATA_CODE  Longitude  Latitude  \n",
       "6194        WKK    -158.62     59.28  \n",
       "25963       NaN     -86.39     31.31  \n",
       "26143       ABE     -75.44     40.65  \n",
       "26144       ABI     -99.68     32.41  \n",
       "26145       ABQ    -106.61     35.04  "
      ]
     },
     "metadata": {},
     "output_type": "display_data"
    },
    {
     "data": {
      "text/plain": [
       "(858, 5)"
      ]
     },
     "execution_count": 5,
     "metadata": {},
     "output_type": "execute_result"
    }
   ],
   "source": [
    "# deal with airport dataset\n",
    "airport = airport[(airport['ISO_COUNTRY']=='US')&((airport['TYPE']=='medium_airport')|(airport['TYPE']=='large_airport'))]\n",
    "airport[['Longitude', 'Latitude']] = airport['COORDINATES'].str.split(',', expand=True).astype(float)\n",
    "airport = airport.drop(['ELEVATION_FT','CONTINENT','ISO_COUNTRY','MUNICIPALITY','COORDINATES'],axis=1)\n",
    "display(airport.head())\n",
    "airport.shape"
   ]
  },
  {
   "cell_type": "code",
   "execution_count": 6,
   "id": "ff6e896e-d2b2-4b7c-a07e-574f8db746bf",
   "metadata": {},
   "outputs": [
    {
     "data": {
      "text/html": [
       "<div>\n",
       "<style scoped>\n",
       "    .dataframe tbody tr th:only-of-type {\n",
       "        vertical-align: middle;\n",
       "    }\n",
       "\n",
       "    .dataframe tbody tr th {\n",
       "        vertical-align: top;\n",
       "    }\n",
       "\n",
       "    .dataframe thead th {\n",
       "        text-align: right;\n",
       "    }\n",
       "</style>\n",
       "<table border=\"1\" class=\"dataframe\">\n",
       "  <thead>\n",
       "    <tr style=\"text-align: right;\">\n",
       "      <th></th>\n",
       "      <th>ORIGIN</th>\n",
       "      <th>ORIGIN_CITY_NAME</th>\n",
       "      <th>DESTINATION</th>\n",
       "      <th>DEST_CITY_NAME</th>\n",
       "      <th>DEP_DELAY</th>\n",
       "      <th>ARR_DELAY</th>\n",
       "      <th>CANCELLED</th>\n",
       "      <th>AIR_TIME</th>\n",
       "      <th>DISTANCE</th>\n",
       "      <th>OCCUPANCY_RATE</th>\n",
       "    </tr>\n",
       "  </thead>\n",
       "  <tbody>\n",
       "    <tr>\n",
       "      <th>0</th>\n",
       "      <td>RSW</td>\n",
       "      <td>Fort Myers, FL</td>\n",
       "      <td>CLE</td>\n",
       "      <td>Cleveland, OH</td>\n",
       "      <td>-8.00</td>\n",
       "      <td>-6.00</td>\n",
       "      <td>0.00</td>\n",
       "      <td>143.0</td>\n",
       "      <td>1025.0</td>\n",
       "      <td>0.97</td>\n",
       "    </tr>\n",
       "    <tr>\n",
       "      <th>1</th>\n",
       "      <td>RSW</td>\n",
       "      <td>Fort Myers, FL</td>\n",
       "      <td>CMH</td>\n",
       "      <td>Columbus, OH</td>\n",
       "      <td>1.00</td>\n",
       "      <td>5.00</td>\n",
       "      <td>0.00</td>\n",
       "      <td>135.0</td>\n",
       "      <td>930.0</td>\n",
       "      <td>0.55</td>\n",
       "    </tr>\n",
       "    <tr>\n",
       "      <th>2</th>\n",
       "      <td>RSW</td>\n",
       "      <td>Fort Myers, FL</td>\n",
       "      <td>CMH</td>\n",
       "      <td>Columbus, OH</td>\n",
       "      <td>0.00</td>\n",
       "      <td>4.00</td>\n",
       "      <td>0.00</td>\n",
       "      <td>132.0</td>\n",
       "      <td>930.0</td>\n",
       "      <td>0.91</td>\n",
       "    </tr>\n",
       "    <tr>\n",
       "      <th>3</th>\n",
       "      <td>RSW</td>\n",
       "      <td>Fort Myers, FL</td>\n",
       "      <td>CMH</td>\n",
       "      <td>Columbus, OH</td>\n",
       "      <td>11.00</td>\n",
       "      <td>14.00</td>\n",
       "      <td>0.00</td>\n",
       "      <td>136.0</td>\n",
       "      <td>930.0</td>\n",
       "      <td>0.67</td>\n",
       "    </tr>\n",
       "    <tr>\n",
       "      <th>4</th>\n",
       "      <td>RSW</td>\n",
       "      <td>Fort Myers, FL</td>\n",
       "      <td>DAL</td>\n",
       "      <td>Dallas, TX</td>\n",
       "      <td>0.00</td>\n",
       "      <td>-17.00</td>\n",
       "      <td>0.00</td>\n",
       "      <td>151.0</td>\n",
       "      <td>1005.0</td>\n",
       "      <td>0.62</td>\n",
       "    </tr>\n",
       "  </tbody>\n",
       "</table>\n",
       "</div>"
      ],
      "text/plain": [
       "  ORIGIN ORIGIN_CITY_NAME DESTINATION DEST_CITY_NAME  DEP_DELAY  ARR_DELAY  \\\n",
       "0    RSW   Fort Myers, FL         CLE  Cleveland, OH      -8.00      -6.00   \n",
       "1    RSW   Fort Myers, FL         CMH   Columbus, OH       1.00       5.00   \n",
       "2    RSW   Fort Myers, FL         CMH   Columbus, OH       0.00       4.00   \n",
       "3    RSW   Fort Myers, FL         CMH   Columbus, OH      11.00      14.00   \n",
       "4    RSW   Fort Myers, FL         DAL     Dallas, TX       0.00     -17.00   \n",
       "\n",
       "   CANCELLED AIR_TIME DISTANCE  OCCUPANCY_RATE  \n",
       "0       0.00    143.0   1025.0            0.97  \n",
       "1       0.00    135.0    930.0            0.55  \n",
       "2       0.00    132.0    930.0            0.91  \n",
       "3       0.00    136.0    930.0            0.67  \n",
       "4       0.00    151.0   1005.0            0.62  "
      ]
     },
     "metadata": {},
     "output_type": "display_data"
    },
    {
     "data": {
      "text/plain": [
       "(1859862, 10)"
      ]
     },
     "execution_count": 6,
     "metadata": {},
     "output_type": "execute_result"
    }
   ],
   "source": [
    "# deal with flights dataset\n",
    "flights = flights[flights['CANCELLED']==0]\n",
    "flights = flights.drop(['FL_DATE','OP_CARRIER','OP_CARRIER_FL_NUM','TAIL_NUM','ORIGIN_AIRPORT_ID','DEST_AIRPORT_ID'],axis=1) # here we keep 'CANCELLED' since we will use it to count the number of flights later on\n",
    "display(flights.head())\n",
    "flights.shape"
   ]
  },
  {
   "cell_type": "code",
   "execution_count": 7,
   "id": "677dd256-a5e7-4126-9750-e7c73acbd3cd",
   "metadata": {},
   "outputs": [
    {
     "data": {
      "text/html": [
       "<div>\n",
       "<style scoped>\n",
       "    .dataframe tbody tr th:only-of-type {\n",
       "        vertical-align: middle;\n",
       "    }\n",
       "\n",
       "    .dataframe tbody tr th {\n",
       "        vertical-align: top;\n",
       "    }\n",
       "\n",
       "    .dataframe thead th {\n",
       "        text-align: right;\n",
       "    }\n",
       "</style>\n",
       "<table border=\"1\" class=\"dataframe\">\n",
       "  <thead>\n",
       "    <tr style=\"text-align: right;\">\n",
       "      <th></th>\n",
       "      <th>ORIGIN</th>\n",
       "      <th>ITIN_FARE</th>\n",
       "      <th>DESTINATION</th>\n",
       "    </tr>\n",
       "  </thead>\n",
       "  <tbody>\n",
       "    <tr>\n",
       "      <th>0</th>\n",
       "      <td>ABI</td>\n",
       "      <td>736.0</td>\n",
       "      <td>DAB</td>\n",
       "    </tr>\n",
       "    <tr>\n",
       "      <th>1</th>\n",
       "      <td>ABI</td>\n",
       "      <td>570.0</td>\n",
       "      <td>COS</td>\n",
       "    </tr>\n",
       "    <tr>\n",
       "      <th>2</th>\n",
       "      <td>ABI</td>\n",
       "      <td>564.0</td>\n",
       "      <td>MCO</td>\n",
       "    </tr>\n",
       "    <tr>\n",
       "      <th>3</th>\n",
       "      <td>ABI</td>\n",
       "      <td>345.0</td>\n",
       "      <td>LGA</td>\n",
       "    </tr>\n",
       "    <tr>\n",
       "      <th>10</th>\n",
       "      <td>ABI</td>\n",
       "      <td>1647.0</td>\n",
       "      <td>JAX</td>\n",
       "    </tr>\n",
       "  </tbody>\n",
       "</table>\n",
       "</div>"
      ],
      "text/plain": [
       "   ORIGIN ITIN_FARE DESTINATION\n",
       "0     ABI     736.0         DAB\n",
       "1     ABI     570.0         COS\n",
       "2     ABI     564.0         MCO\n",
       "3     ABI     345.0         LGA\n",
       "10    ABI    1647.0         JAX"
      ]
     },
     "metadata": {},
     "output_type": "display_data"
    },
    {
     "data": {
      "text/plain": [
       "(661036, 3)"
      ]
     },
     "execution_count": 7,
     "metadata": {},
     "output_type": "execute_result"
    }
   ],
   "source": [
    "# deal with tickets dataset\n",
    "tickets = tickets[tickets['ROUNDTRIP']==1]  \n",
    "tickets = tickets.drop(['ITIN_ID','YEAR','QUARTER','ORIGIN_COUNTRY','ORIGIN_STATE_ABR','ORIGIN_STATE_NM','ROUNDTRIP','REPORTING_CARRIER','PASSENGERS'],axis=1)\n",
    "display(tickets.head())\n",
    "tickets.shape"
   ]
  },
  {
   "cell_type": "markdown",
   "id": "93ededa2-b83a-41fa-b6bb-dfc3f624d6d8",
   "metadata": {},
   "source": [
    "# 2. Data Quality Check & Cleaning"
   ]
  },
  {
   "cell_type": "code",
   "execution_count": 8,
   "id": "556f7868-a052-49d6-945c-a941b3421eb4",
   "metadata": {},
   "outputs": [
    {
     "name": "stdout",
     "output_type": "stream",
     "text": [
      "<class 'pandas.core.frame.DataFrame'>\n",
      "Int64Index: 858 entries, 6194 to 50008\n",
      "Data columns (total 5 columns):\n",
      " #   Column     Non-Null Count  Dtype  \n",
      "---  ------     --------------  -----  \n",
      " 0   TYPE       858 non-null    object \n",
      " 1   NAME       858 non-null    object \n",
      " 2   IATA_CODE  821 non-null    object \n",
      " 3   Longitude  858 non-null    float64\n",
      " 4   Latitude   858 non-null    float64\n",
      "dtypes: float64(2), object(3)\n",
      "memory usage: 40.2+ KB\n"
     ]
    }
   ],
   "source": [
    "airport.info()"
   ]
  },
  {
   "cell_type": "code",
   "execution_count": 9,
   "id": "984a0cc0-d8b0-40d3-9351-6146fcaac393",
   "metadata": {},
   "outputs": [
    {
     "name": "stdout",
     "output_type": "stream",
     "text": [
      "<class 'pandas.core.frame.DataFrame'>\n",
      "Int64Index: 1859862 entries, 0 to 1911340\n",
      "Data columns (total 10 columns):\n",
      " #   Column            Dtype  \n",
      "---  ------            -----  \n",
      " 0   ORIGIN            object \n",
      " 1   ORIGIN_CITY_NAME  object \n",
      " 2   DESTINATION       object \n",
      " 3   DEST_CITY_NAME    object \n",
      " 4   DEP_DELAY         float64\n",
      " 5   ARR_DELAY         float64\n",
      " 6   CANCELLED         float64\n",
      " 7   AIR_TIME          object \n",
      " 8   DISTANCE          object \n",
      " 9   OCCUPANCY_RATE    float64\n",
      "dtypes: float64(4), object(6)\n",
      "memory usage: 156.1+ MB\n"
     ]
    }
   ],
   "source": [
    "flights.info()"
   ]
  },
  {
   "cell_type": "code",
   "execution_count": 10,
   "id": "5dfbe7b9-7857-4ae4-8923-cca716bf5077",
   "metadata": {},
   "outputs": [
    {
     "name": "stdout",
     "output_type": "stream",
     "text": [
      "<class 'pandas.core.frame.DataFrame'>\n",
      "Int64Index: 661036 entries, 0 to 1115067\n",
      "Data columns (total 3 columns):\n",
      " #   Column       Non-Null Count   Dtype \n",
      "---  ------       --------------   ----- \n",
      " 0   ORIGIN       661036 non-null  object\n",
      " 1   ITIN_FARE    660585 non-null  object\n",
      " 2   DESTINATION  661036 non-null  object\n",
      "dtypes: object(3)\n",
      "memory usage: 20.2+ MB\n"
     ]
    }
   ],
   "source": [
    "tickets.info()"
   ]
  },
  {
   "cell_type": "markdown",
   "id": "d05eaa00-8561-4b7d-8479-f35ba278bb2e",
   "metadata": {
    "tags": []
   },
   "source": [
    "## 2.1 Detect numeric format exception"
   ]
  },
  {
   "cell_type": "markdown",
   "id": "931bef18-14c9-4ab0-bef2-f3b2c7cd0206",
   "metadata": {},
   "source": [
    "Notice that the format of some solumns should be float, but are displayed as object, like:\n",
    "* **AIR_TIME**, **DISTANCE** in flights dataset\n",
    "* **ITIN_FARE** in tickets dataset"
   ]
  },
  {
   "cell_type": "code",
   "execution_count": 11,
   "id": "5a0369e9-2c31-41ee-a76e-b48c3d383d1a",
   "metadata": {},
   "outputs": [],
   "source": [
    "# detect the number of value with format exception in column\n",
    "def detect_special_alpha_columns(col):\n",
    "    special_chars_pattern = r'[!@#$%^&*(),.?\":{}|<>]'\n",
    "    special = col.str.contains(special_chars_pattern, regex=True).sum()\n",
    "    alpha = col.str.isalpha().sum()\n",
    "    print(f'{col.name} has {special} values which contain special characters, and {alpha} values which contain alphabetical values.')"
   ]
  },
  {
   "cell_type": "code",
   "execution_count": 12,
   "id": "72f8cf8a-1419-4f5d-91f5-7aa83855d2c5",
   "metadata": {},
   "outputs": [
    {
     "name": "stdout",
     "output_type": "stream",
     "text": [
      "AIR_TIME has 1855186 values which contain special characters, and 2 values which contain alphabetical values.\n"
     ]
    }
   ],
   "source": [
    "detect_special_alpha_columns(flights['AIR_TIME'])"
   ]
  },
  {
   "cell_type": "code",
   "execution_count": 13,
   "id": "7bc8475d-979b-4410-8421-2ca22497cf73",
   "metadata": {},
   "outputs": [
    {
     "name": "stdout",
     "output_type": "stream",
     "text": [
      "DISTANCE has 1859575 values which contain special characters, and 4 values which contain alphabetical values.\n"
     ]
    }
   ],
   "source": [
    "detect_special_alpha_columns(flights['DISTANCE'])"
   ]
  },
  {
   "cell_type": "code",
   "execution_count": 14,
   "id": "b6ba5170-292a-4c10-8a52-c47df293a74b",
   "metadata": {},
   "outputs": [
    {
     "name": "stdout",
     "output_type": "stream",
     "text": [
      "ITIN_FARE has 660011 values which contain special characters, and 0 values which contain alphabetical values.\n"
     ]
    }
   ],
   "source": [
    "detect_special_alpha_columns(tickets['ITIN_FARE'])"
   ]
  },
  {
   "cell_type": "code",
   "execution_count": 15,
   "id": "47d199f9-079c-49d6-9eaf-299e06115a7d",
   "metadata": {
    "tags": []
   },
   "outputs": [],
   "source": [
    "# extract numeric values from column and convert to float\n",
    "def extract_numeric_value(col):\n",
    "    return col.str.extract(r'(\\d+)').astype(float)"
   ]
  },
  {
   "cell_type": "code",
   "execution_count": 16,
   "id": "33da6ff8-8b2f-44b9-878c-f81f89831a37",
   "metadata": {},
   "outputs": [],
   "source": [
    "# extract numeric values and convert to float\n",
    "flights['AIR_TIME'] = extract_numeric_value(flights['AIR_TIME'])\n",
    "flights['DISTANCE'] = extract_numeric_value(flights['DISTANCE'])\n",
    "tickets['ITIN_FARE'] = extract_numeric_value(tickets['ITIN_FARE'])"
   ]
  },
  {
   "cell_type": "markdown",
   "id": "761d5383-d5c1-4a42-9201-fb8fddf8db86",
   "metadata": {},
   "source": [
    "Since each plane can accommodate up to 200 passengers, so replacing **OCCUPANCY_RATE** with **Passenger_Num** = OCCUPANCY_RATE*200"
   ]
  },
  {
   "cell_type": "code",
   "execution_count": 17,
   "id": "2850f99a-6028-4a25-870f-8d6fbd8bc6db",
   "metadata": {},
   "outputs": [],
   "source": [
    "# convert OCCUPANCY_RATE\n",
    "flights['Passenger_Num'] = flights['OCCUPANCY_RATE']*200\n",
    "flights = flights.drop('OCCUPANCY_RATE', axis=1)"
   ]
  },
  {
   "cell_type": "code",
   "execution_count": 18,
   "id": "6173df19-dc85-4786-9c1d-e4d173c85a64",
   "metadata": {},
   "outputs": [
    {
     "name": "stdout",
     "output_type": "stream",
     "text": [
      "<class 'pandas.core.frame.DataFrame'>\n",
      "Int64Index: 1859862 entries, 0 to 1911340\n",
      "Data columns (total 10 columns):\n",
      " #   Column            Dtype  \n",
      "---  ------            -----  \n",
      " 0   ORIGIN            object \n",
      " 1   ORIGIN_CITY_NAME  object \n",
      " 2   DESTINATION       object \n",
      " 3   DEST_CITY_NAME    object \n",
      " 4   DEP_DELAY         float64\n",
      " 5   ARR_DELAY         float64\n",
      " 6   CANCELLED         float64\n",
      " 7   AIR_TIME          float64\n",
      " 8   DISTANCE          float64\n",
      " 9   Passenger_Num     float64\n",
      "dtypes: float64(6), object(4)\n",
      "memory usage: 156.1+ MB\n"
     ]
    }
   ],
   "source": [
    "# show if converted successfully\n",
    "flights.info()"
   ]
  },
  {
   "cell_type": "code",
   "execution_count": 19,
   "id": "0d6f717d-c575-4d82-8060-336fe6db0d35",
   "metadata": {},
   "outputs": [
    {
     "name": "stdout",
     "output_type": "stream",
     "text": [
      "<class 'pandas.core.frame.DataFrame'>\n",
      "Int64Index: 661036 entries, 0 to 1115067\n",
      "Data columns (total 3 columns):\n",
      " #   Column       Non-Null Count   Dtype  \n",
      "---  ------       --------------   -----  \n",
      " 0   ORIGIN       661036 non-null  object \n",
      " 1   ITIN_FARE    660585 non-null  float64\n",
      " 2   DESTINATION  661036 non-null  object \n",
      "dtypes: float64(1), object(2)\n",
      "memory usage: 20.2+ MB\n"
     ]
    }
   ],
   "source": [
    "# show if converted successfully\n",
    "tickets.info()"
   ]
  },
  {
   "cell_type": "markdown",
   "id": "52fbb30d-79e4-4497-a3ff-a50f80ae92df",
   "metadata": {
    "tags": []
   },
   "source": [
    "## 2.2 Deal with outliers"
   ]
  },
  {
   "cell_type": "code",
   "execution_count": 20,
   "id": "c453729e-87f1-4bcd-a463-bc96c6144d83",
   "metadata": {},
   "outputs": [
    {
     "data": {
      "image/png": "[encoded data removed]",
      "text/plain": [
       "<Figure size 2000x500 with 5 Axes>"
      ]
     },
     "metadata": {},
     "output_type": "display_data"
    }
   ],
   "source": [
    "# create violin plots for numeric columns in flights dataset to show the data distribution\n",
    "fig, ax = plt.subplots(1,5,figsize=(20,5))\n",
    "\n",
    "sns.violinplot(x='DEP_DELAY',data=flights,ax=ax[0])\n",
    "sns.violinplot(x='ARR_DELAY',data=flights,ax=ax[1])\n",
    "sns.violinplot(x='AIR_TIME',data=flights,ax=ax[2])\n",
    "sns.violinplot(x='DISTANCE',data=flights,ax=ax[3])\n",
    "sns.violinplot(x='Passenger_Num',data=flights,ax=ax[4])\n",
    "\n",
    "fig.suptitle('flights violin plots')\n",
    "plt.show()"
   ]
  },
  {
   "cell_type": "code",
   "execution_count": 21,
   "id": "bb2e66e0-73b9-4bf7-8795-a1c0d563c647",
   "metadata": {},
   "outputs": [
    {
     "data": {
      "image/png": "[encoded data removed]",
      "text/plain": [
       "<Figure size 400x500 with 1 Axes>"
      ]
     },
     "metadata": {},
     "output_type": "display_data"
    }
   ],
   "source": [
    "# create violin plots for numeric columns in tickets dataset\n",
    "plt.figure(figsize=(4,5)) \n",
    "sns.violinplot(x='ITIN_FARE',data=tickets)\n",
    "plt.title('tickets violin plot')\n",
    "plt.show()"
   ]
  },
  {
   "cell_type": "markdown",
   "id": "8b3b74b9-c1e3-44c0-987b-57fb4279fa08",
   "metadata": {},
   "source": [
    "According to violin plots, we can notice that some values are too high which seems unreasonable, so these records should be considered as outliers:\n",
    "* flights.DEP_DELAY > 300\n",
    "* flights.ARR_DELAY > 400\n",
    "* flights.AIR_TIME > 500\n",
    "* flights.DISTANCE > 3000\n",
    "* tickets.ITIN_FARE > 2500\n",
    "\n",
    "Note: here I make the judgment by visual inspection, and we still need more information to confirm whether they are actual outliers."
   ]
  },
  {
   "cell_type": "code",
   "execution_count": 22,
   "id": "b17dfd1d-1a85-458c-8b72-d9a99eaa15b7",
   "metadata": {},
   "outputs": [],
   "source": [
    "# replace outliers with median value\n",
    "def replace_outliers(df, col, upper_bound):\n",
    "    median = df[col].median()\n",
    "    df[col].loc[df[col]>upper_bound] = median"
   ]
  },
  {
   "cell_type": "code",
   "execution_count": 23,
   "id": "35676249-a8c6-438b-af97-efbc6bb16c30",
   "metadata": {},
   "outputs": [],
   "source": [
    "replace_outliers(flights, 'DEP_DELAY', 300)\n",
    "replace_outliers(flights, 'ARR_DELAY', 400)\n",
    "replace_outliers(flights, 'AIR_TIME', 500)\n",
    "replace_outliers(flights, 'DISTANCE', 3000)\n",
    "replace_outliers(tickets, 'ITIN_FARE', 2500)"
   ]
  },
  {
   "cell_type": "code",
   "execution_count": 24,
   "id": "61dfc1d0-5fe7-4e1b-a5a6-893a2c801b42",
   "metadata": {},
   "outputs": [
    {
     "data": {
      "image/png": "[encoded data removed]",
      "text/plain": [
       "<Figure size 2000x500 with 5 Axes>"
      ]
     },
     "metadata": {},
     "output_type": "display_data"
    }
   ],
   "source": [
    "# display violin plots after removing outliers\n",
    "fig, ax = plt.subplots(1,5,figsize=(20,5))\n",
    "\n",
    "sns.violinplot(x='DEP_DELAY',data=flights,ax=ax[0])\n",
    "sns.violinplot(x='ARR_DELAY',data=flights,ax=ax[1])\n",
    "sns.violinplot(x='AIR_TIME',data=flights,ax=ax[2])\n",
    "sns.violinplot(x='DISTANCE',data=flights,ax=ax[3])\n",
    "sns.violinplot(x='Passenger_Num',data=flights,ax=ax[4])\n",
    "\n",
    "fig.suptitle('flights violin plots')\n",
    "plt.show()"
   ]
  },
  {
   "cell_type": "code",
   "execution_count": 26,
   "id": "37d790ab-e54e-404e-96e0-365a4ed4480a",
   "metadata": {},
   "outputs": [
    {
     "data": {
      "image/png": "[encoded data removed]",
      "text/plain": [
       "<Figure size 400x500 with 1 Axes>"
      ]
     },
     "metadata": {},
     "output_type": "display_data"
    }
   ],
   "source": [
    "# display violin plot after removing outliers\n",
    "plt.figure(figsize=(4,5)) \n",
    "sns.violinplot(x='ITIN_FARE',data=tickets)\n",
    "plt.title('tickets violin plot')\n",
    "plt.show()"
   ]
  },
  {
   "cell_type": "markdown",
   "id": "68328589-181f-4fb7-93db-d8f51d440013",
   "metadata": {
    "tags": []
   },
   "source": [
    "## 2.3 Deal with missing value"
   ]
  },
  {
   "cell_type": "code",
   "execution_count": 27,
   "id": "b8f04cab-0e19-416f-b7e5-f2b8f5aa0c8b",
   "metadata": {},
   "outputs": [],
   "source": [
    "# get the name of dataframe\n",
    "def get_df_name(df):\n",
    "    name =[x for x in globals() if globals()[x] is df][0]\n",
    "    return name\n",
    "\n",
    "# display columns with missing values and their missing rates\n",
    "def show_missing_columns(df):\n",
    "    missing_rates = (df.isnull().mean() * 100)\n",
    "    columns_with_missing = missing_rates[missing_rates > 0]\n",
    "    \n",
    "    if not columns_with_missing.empty:\n",
    "        print(f\"Columns with missing values in {get_df_name(df)} dataset and their missing rates:\")\n",
    "        for column, rate in columns_with_missing.items():\n",
    "            print(f\"{column}: {rate:.3f}%\")\n",
    "    else:\n",
    "        print(f\"No columns have missing values in {get_df_name(df)} dataset.\")\n",
    "        \n",
    "    print('\\n')"
   ]
  },
  {
   "cell_type": "code",
   "execution_count": 28,
   "id": "7ed7b60c-6192-4c20-ac88-7fff8b4c70fe",
   "metadata": {},
   "outputs": [
    {
     "name": "stdout",
     "output_type": "stream",
     "text": [
      "Columns with missing values in airport dataset and their missing rates:\n",
      "IATA_CODE: 4.312%\n",
      "\n",
      "\n",
      "Columns with missing values in flights dataset and their missing rates:\n",
      "ARR_DELAY: 0.235%\n",
      "AIR_TIME: 0.248%\n",
      "DISTANCE: 0.014%\n",
      "Passenger_Num: 0.002%\n",
      "\n",
      "\n",
      "Columns with missing values in tickets dataset and their missing rates:\n",
      "ITIN_FARE: 0.068%\n",
      "\n",
      "\n"
     ]
    }
   ],
   "source": [
    "show_missing_columns(airport)\n",
    "show_missing_columns(flights)\n",
    "show_missing_columns(tickets)"
   ]
  },
  {
   "cell_type": "code",
   "execution_count": 29,
   "id": "7df18c71-65a2-49b8-834a-659989ed3c98",
   "metadata": {},
   "outputs": [],
   "source": [
    "# for airport dataset, remove IATA_CODE missing records, since it's the basic necessity and we can do nothing about it\n",
    "airport = airport.dropna(subset=['IATA_CODE'])"
   ]
  },
  {
   "cell_type": "code",
   "execution_count": 30,
   "id": "d91cf546-15ac-4c5b-a3c4-d134ac41397b",
   "metadata": {},
   "outputs": [],
   "source": [
    "# for flights and tickets datasets, fill null values with median value as it's robust to outliers\n",
    "flights = flights.fillna(flights.median())\n",
    "tickets = tickets.fillna(tickets.median())"
   ]
  },
  {
   "cell_type": "code",
   "execution_count": 31,
   "id": "b3fa86b1-d6c0-4707-a72a-84ff8680ef5d",
   "metadata": {},
   "outputs": [
    {
     "name": "stdout",
     "output_type": "stream",
     "text": [
      "No columns have missing values in airport dataset.\n",
      "\n",
      "\n",
      "No columns have missing values in flights dataset.\n",
      "\n",
      "\n",
      "No columns have missing values in tickets dataset.\n",
      "\n",
      "\n"
     ]
    }
   ],
   "source": [
    "# check if we still have any null value\n",
    "show_missing_columns(airport)\n",
    "show_missing_columns(flights)\n",
    "show_missing_columns(tickets)"
   ]
  },
  {
   "cell_type": "markdown",
   "id": "b18dd281-2853-4876-97c1-ce14c425816c",
   "metadata": {},
   "source": [
    "## 2.4 Deal with negative values"
   ]
  },
  {
   "cell_type": "markdown",
   "id": "a2448503-b1aa-4a8c-b1e3-ceb449c966da",
   "metadata": {},
   "source": [
    "Since we need to aggregate numeric values later on in order to merge dataframe efficiently, we would check if there's any negative values, and whether they would impact the following calculation."
   ]
  },
  {
   "cell_type": "code",
   "execution_count": 32,
   "id": "9609d561-017d-4584-8c68-f429d72a089d",
   "metadata": {},
   "outputs": [
    {
     "data": {
      "text/html": [
       "<div>\n",
       "<style scoped>\n",
       "    .dataframe tbody tr th:only-of-type {\n",
       "        vertical-align: middle;\n",
       "    }\n",
       "\n",
       "    .dataframe tbody tr th {\n",
       "        vertical-align: top;\n",
       "    }\n",
       "\n",
       "    .dataframe thead th {\n",
       "        text-align: right;\n",
       "    }\n",
       "</style>\n",
       "<table border=\"1\" class=\"dataframe\">\n",
       "  <thead>\n",
       "    <tr style=\"text-align: right;\">\n",
       "      <th></th>\n",
       "      <th>DEP_DELAY</th>\n",
       "      <th>ARR_DELAY</th>\n",
       "      <th>CANCELLED</th>\n",
       "      <th>AIR_TIME</th>\n",
       "      <th>DISTANCE</th>\n",
       "      <th>Passenger_Num</th>\n",
       "    </tr>\n",
       "  </thead>\n",
       "  <tbody>\n",
       "    <tr>\n",
       "      <th>count</th>\n",
       "      <td>1859862.00</td>\n",
       "      <td>1859862.00</td>\n",
       "      <td>1859862.00</td>\n",
       "      <td>1859862.00</td>\n",
       "      <td>1859862.00</td>\n",
       "      <td>1859862.00</td>\n",
       "    </tr>\n",
       "    <tr>\n",
       "      <th>mean</th>\n",
       "      <td>8.62</td>\n",
       "      <td>4.12</td>\n",
       "      <td>0.00</td>\n",
       "      <td>109.08</td>\n",
       "      <td>766.92</td>\n",
       "      <td>130.04</td>\n",
       "    </tr>\n",
       "    <tr>\n",
       "      <th>std</th>\n",
       "      <td>33.69</td>\n",
       "      <td>39.62</td>\n",
       "      <td>0.00</td>\n",
       "      <td>69.48</td>\n",
       "      <td>567.20</td>\n",
       "      <td>40.40</td>\n",
       "    </tr>\n",
       "    <tr>\n",
       "      <th>min</th>\n",
       "      <td>-63.00</td>\n",
       "      <td>-94.00</td>\n",
       "      <td>0.00</td>\n",
       "      <td>1.00</td>\n",
       "      <td>2.00</td>\n",
       "      <td>60.00</td>\n",
       "    </tr>\n",
       "    <tr>\n",
       "      <th>25%</th>\n",
       "      <td>-6.00</td>\n",
       "      <td>-15.00</td>\n",
       "      <td>0.00</td>\n",
       "      <td>59.00</td>\n",
       "      <td>344.00</td>\n",
       "      <td>96.00</td>\n",
       "    </tr>\n",
       "    <tr>\n",
       "      <th>50%</th>\n",
       "      <td>-2.00</td>\n",
       "      <td>-6.00</td>\n",
       "      <td>0.00</td>\n",
       "      <td>91.00</td>\n",
       "      <td>612.00</td>\n",
       "      <td>130.00</td>\n",
       "    </tr>\n",
       "    <tr>\n",
       "      <th>75%</th>\n",
       "      <td>6.00</td>\n",
       "      <td>8.00</td>\n",
       "      <td>0.00</td>\n",
       "      <td>139.00</td>\n",
       "      <td>1011.00</td>\n",
       "      <td>164.00</td>\n",
       "    </tr>\n",
       "    <tr>\n",
       "      <th>max</th>\n",
       "      <td>300.00</td>\n",
       "      <td>400.00</td>\n",
       "      <td>0.00</td>\n",
       "      <td>500.00</td>\n",
       "      <td>2994.00</td>\n",
       "      <td>200.00</td>\n",
       "    </tr>\n",
       "  </tbody>\n",
       "</table>\n",
       "</div>"
      ],
      "text/plain": [
       "       DEP_DELAY  ARR_DELAY  CANCELLED   AIR_TIME   DISTANCE  Passenger_Num\n",
       "count 1859862.00 1859862.00 1859862.00 1859862.00 1859862.00     1859862.00\n",
       "mean        8.62       4.12       0.00     109.08     766.92         130.04\n",
       "std        33.69      39.62       0.00      69.48     567.20          40.40\n",
       "min       -63.00     -94.00       0.00       1.00       2.00          60.00\n",
       "25%        -6.00     -15.00       0.00      59.00     344.00          96.00\n",
       "50%        -2.00      -6.00       0.00      91.00     612.00         130.00\n",
       "75%         6.00       8.00       0.00     139.00    1011.00         164.00\n",
       "max       300.00     400.00       0.00     500.00    2994.00         200.00"
      ]
     },
     "execution_count": 32,
     "metadata": {},
     "output_type": "execute_result"
    }
   ],
   "source": [
    "flights.describe()"
   ]
  },
  {
   "cell_type": "code",
   "execution_count": 33,
   "id": "916e8c50-4454-4c4e-be43-1e41aa9cb587",
   "metadata": {},
   "outputs": [
    {
     "data": {
      "text/html": [
       "<div>\n",
       "<style scoped>\n",
       "    .dataframe tbody tr th:only-of-type {\n",
       "        vertical-align: middle;\n",
       "    }\n",
       "\n",
       "    .dataframe tbody tr th {\n",
       "        vertical-align: top;\n",
       "    }\n",
       "\n",
       "    .dataframe thead th {\n",
       "        text-align: right;\n",
       "    }\n",
       "</style>\n",
       "<table border=\"1\" class=\"dataframe\">\n",
       "  <thead>\n",
       "    <tr style=\"text-align: right;\">\n",
       "      <th></th>\n",
       "      <th>ITIN_FARE</th>\n",
       "    </tr>\n",
       "  </thead>\n",
       "  <tbody>\n",
       "    <tr>\n",
       "      <th>count</th>\n",
       "      <td>661036.00</td>\n",
       "    </tr>\n",
       "    <tr>\n",
       "      <th>mean</th>\n",
       "      <td>464.44</td>\n",
       "    </tr>\n",
       "    <tr>\n",
       "      <th>std</th>\n",
       "      <td>299.46</td>\n",
       "    </tr>\n",
       "    <tr>\n",
       "      <th>min</th>\n",
       "      <td>0.00</td>\n",
       "    </tr>\n",
       "    <tr>\n",
       "      <th>25%</th>\n",
       "      <td>279.00</td>\n",
       "    </tr>\n",
       "    <tr>\n",
       "      <th>50%</th>\n",
       "      <td>415.00</td>\n",
       "    </tr>\n",
       "    <tr>\n",
       "      <th>75%</th>\n",
       "      <td>592.00</td>\n",
       "    </tr>\n",
       "    <tr>\n",
       "      <th>max</th>\n",
       "      <td>2500.00</td>\n",
       "    </tr>\n",
       "  </tbody>\n",
       "</table>\n",
       "</div>"
      ],
      "text/plain": [
       "       ITIN_FARE\n",
       "count  661036.00\n",
       "mean      464.44\n",
       "std       299.46\n",
       "min         0.00\n",
       "25%       279.00\n",
       "50%       415.00\n",
       "75%       592.00\n",
       "max      2500.00"
      ]
     },
     "execution_count": 33,
     "metadata": {},
     "output_type": "execute_result"
    }
   ],
   "source": [
    "tickets.describe()"
   ]
  },
  {
   "cell_type": "code",
   "execution_count": 34,
   "id": "5bee1150-17e6-4a6a-baf1-17942af4dd4a",
   "metadata": {},
   "outputs": [],
   "source": [
    "# replace negative values with a setting number\n",
    "def replace_negative(df,col,num):\n",
    "    df[col].loc[df[col]<0] = num"
   ]
  },
  {
   "cell_type": "markdown",
   "id": "6cd74866-a51c-42d0-9c2c-3c9816069ae6",
   "metadata": {},
   "source": [
    "According to the brand image, we would focus on punctuality instead of delay. So the negative values in DEP_DELAY or ARR_DELAY columns, which means early departures or arrivals, would be replaced with 0, since negative values would affect the following aggregation results."
   ]
  },
  {
   "cell_type": "code",
   "execution_count": 35,
   "id": "70768d0a-0b60-43e6-83ae-4a5c599365a2",
   "metadata": {},
   "outputs": [],
   "source": [
    "# replace negative values with 0\n",
    "replace_negative(flights,'DEP_DELAY',0)\n",
    "replace_negative(flights,'ARR_DELAY',0)"
   ]
  },
  {
   "cell_type": "code",
   "execution_count": 36,
   "id": "6280f990-9909-4928-bb16-df93cf9cc3ba",
   "metadata": {},
   "outputs": [
    {
     "data": {
      "text/html": [
       "<div>\n",
       "<style scoped>\n",
       "    .dataframe tbody tr th:only-of-type {\n",
       "        vertical-align: middle;\n",
       "    }\n",
       "\n",
       "    .dataframe tbody tr th {\n",
       "        vertical-align: top;\n",
       "    }\n",
       "\n",
       "    .dataframe thead th {\n",
       "        text-align: right;\n",
       "    }\n",
       "</style>\n",
       "<table border=\"1\" class=\"dataframe\">\n",
       "  <thead>\n",
       "    <tr style=\"text-align: right;\">\n",
       "      <th></th>\n",
       "      <th>DEP_DELAY</th>\n",
       "      <th>ARR_DELAY</th>\n",
       "      <th>CANCELLED</th>\n",
       "      <th>AIR_TIME</th>\n",
       "      <th>DISTANCE</th>\n",
       "      <th>Passenger_Num</th>\n",
       "    </tr>\n",
       "  </thead>\n",
       "  <tbody>\n",
       "    <tr>\n",
       "      <th>count</th>\n",
       "      <td>1859862.00</td>\n",
       "      <td>1859862.00</td>\n",
       "      <td>1859862.00</td>\n",
       "      <td>1859862.00</td>\n",
       "      <td>1859862.00</td>\n",
       "      <td>1859862.00</td>\n",
       "    </tr>\n",
       "    <tr>\n",
       "      <th>mean</th>\n",
       "      <td>11.99</td>\n",
       "      <td>12.98</td>\n",
       "      <td>0.00</td>\n",
       "      <td>109.08</td>\n",
       "      <td>766.92</td>\n",
       "      <td>130.04</td>\n",
       "    </tr>\n",
       "    <tr>\n",
       "      <th>std</th>\n",
       "      <td>32.25</td>\n",
       "      <td>35.25</td>\n",
       "      <td>0.00</td>\n",
       "      <td>69.48</td>\n",
       "      <td>567.20</td>\n",
       "      <td>40.40</td>\n",
       "    </tr>\n",
       "    <tr>\n",
       "      <th>min</th>\n",
       "      <td>0.00</td>\n",
       "      <td>0.00</td>\n",
       "      <td>0.00</td>\n",
       "      <td>1.00</td>\n",
       "      <td>2.00</td>\n",
       "      <td>60.00</td>\n",
       "    </tr>\n",
       "    <tr>\n",
       "      <th>25%</th>\n",
       "      <td>0.00</td>\n",
       "      <td>0.00</td>\n",
       "      <td>0.00</td>\n",
       "      <td>59.00</td>\n",
       "      <td>344.00</td>\n",
       "      <td>96.00</td>\n",
       "    </tr>\n",
       "    <tr>\n",
       "      <th>50%</th>\n",
       "      <td>0.00</td>\n",
       "      <td>0.00</td>\n",
       "      <td>0.00</td>\n",
       "      <td>91.00</td>\n",
       "      <td>612.00</td>\n",
       "      <td>130.00</td>\n",
       "    </tr>\n",
       "    <tr>\n",
       "      <th>75%</th>\n",
       "      <td>6.00</td>\n",
       "      <td>8.00</td>\n",
       "      <td>0.00</td>\n",
       "      <td>139.00</td>\n",
       "      <td>1011.00</td>\n",
       "      <td>164.00</td>\n",
       "    </tr>\n",
       "    <tr>\n",
       "      <th>max</th>\n",
       "      <td>300.00</td>\n",
       "      <td>400.00</td>\n",
       "      <td>0.00</td>\n",
       "      <td>500.00</td>\n",
       "      <td>2994.00</td>\n",
       "      <td>200.00</td>\n",
       "    </tr>\n",
       "  </tbody>\n",
       "</table>\n",
       "</div>"
      ],
      "text/plain": [
       "       DEP_DELAY  ARR_DELAY  CANCELLED   AIR_TIME   DISTANCE  Passenger_Num\n",
       "count 1859862.00 1859862.00 1859862.00 1859862.00 1859862.00     1859862.00\n",
       "mean       11.99      12.98       0.00     109.08     766.92         130.04\n",
       "std        32.25      35.25       0.00      69.48     567.20          40.40\n",
       "min         0.00       0.00       0.00       1.00       2.00          60.00\n",
       "25%         0.00       0.00       0.00      59.00     344.00          96.00\n",
       "50%         0.00       0.00       0.00      91.00     612.00         130.00\n",
       "75%         6.00       8.00       0.00     139.00    1011.00         164.00\n",
       "max       300.00     400.00       0.00     500.00    2994.00         200.00"
      ]
     },
     "execution_count": 36,
     "metadata": {},
     "output_type": "execute_result"
    }
   ],
   "source": [
    "# check if replaced successfully\n",
    "flights.describe()"
   ]
  },
  {
   "cell_type": "markdown",
   "id": "54939e13-9eaa-4063-ba1b-f0d05f498f52",
   "metadata": {},
   "source": [
    "**Data Quality Insights:**\n",
    "1. Some numeric columns contain special characters or alphabetical values, such as *flights.AIR_TIME*, *flights.DISTANCE*, and *tickets.ITIN_FARE* indicating potential data type mismatches or encoding issues;\n",
    "2. Some numeric columns have unusually high or low values compared to the rest, such as *flights.DEP_DELAY*, *flights.AIR_TIME*, and *tickets.ITIN_FARE*,  which might warrant further investigation to ensure data accuracy;\n",
    "3. A certain percentage of records have missing values in critical columns such as *airport.IATA_CODE*. This could impact downstream analyses or reporting;\n",
    "4. Several records appear to be duplicated in all three datasets, indicating the possibility of redundant data entry or integration issues."
   ]
  },
  {
   "cell_type": "markdown",
   "id": "e4466196-4d0f-4b67-8546-9c7f547d8051",
   "metadata": {},
   "source": [
    "# 3. Data Munging"
   ]
  },
  {
   "cell_type": "markdown",
   "id": "4990272a-1674-424d-8136-48cdfc129851",
   "metadata": {},
   "source": [
    "Since the general task is to find routes, instead of simply merging three dataframes, we would group the tickets and flights dataframe based on origin and destination at first."
   ]
  },
  {
   "cell_type": "code",
   "execution_count": 37,
   "id": "eee6d4a6-a134-4b5f-950b-eac14776cd4d",
   "metadata": {},
   "outputs": [
    {
     "name": "stdout",
     "output_type": "stream",
     "text": [
      "<class 'pandas.core.frame.DataFrame'>\n",
      "Int64Index: 1859862 entries, 0 to 1911340\n",
      "Data columns (total 10 columns):\n",
      " #   Column            Dtype  \n",
      "---  ------            -----  \n",
      " 0   ORIGIN            object \n",
      " 1   ORIGIN_CITY_NAME  object \n",
      " 2   DESTINATION       object \n",
      " 3   DEST_CITY_NAME    object \n",
      " 4   DEP_DELAY         float64\n",
      " 5   ARR_DELAY         float64\n",
      " 6   CANCELLED         float64\n",
      " 7   AIR_TIME          float64\n",
      " 8   DISTANCE          float64\n",
      " 9   Passenger_Num     float64\n",
      "dtypes: float64(6), object(4)\n",
      "memory usage: 156.1+ MB\n"
     ]
    }
   ],
   "source": [
    "flights.info()"
   ]
  },
  {
   "cell_type": "code",
   "execution_count": 38,
   "id": "72b6b932-0ce0-46a4-92e1-a6094010c5b7",
   "metadata": {},
   "outputs": [
    {
     "name": "stdout",
     "output_type": "stream",
     "text": [
      "<class 'pandas.core.frame.DataFrame'>\n",
      "Int64Index: 661036 entries, 0 to 1115067\n",
      "Data columns (total 3 columns):\n",
      " #   Column       Non-Null Count   Dtype  \n",
      "---  ------       --------------   -----  \n",
      " 0   ORIGIN       661036 non-null  object \n",
      " 1   ITIN_FARE    661036 non-null  float64\n",
      " 2   DESTINATION  661036 non-null  object \n",
      "dtypes: float64(1), object(2)\n",
      "memory usage: 20.2+ MB\n"
     ]
    }
   ],
   "source": [
    "tickets.info()"
   ]
  },
  {
   "cell_type": "code",
   "execution_count": 40,
   "id": "96585856-bb2e-48e2-bf22-90a88f20686c",
   "metadata": {},
   "outputs": [],
   "source": [
    "# aggregate flights based on ORIGIN and DESTINATION, and sum numeric value in each column\n",
    "flights_agg = flights.groupby(['ORIGIN','DESTINATION']).aggregate({'ORIGIN_CITY_NAME':'first',\n",
    "                                                                    'DEST_CITY_NAME': 'first',\n",
    "                                                                    'DEP_DELAY': 'sum',\n",
    "                                                                    'ARR_DELAY': 'sum',\n",
    "                                                                    'CANCELLED': 'count',\n",
    "                                                                    'AIR_TIME': 'sum',\n",
    "                                                                    'DISTANCE': 'sum',\n",
    "                                                                    'Passenger_Num':'sum'}).reset_index()"
   ]
  },
  {
   "cell_type": "code",
   "execution_count": 41,
   "id": "049eb355-0f4d-4fc0-b225-e93cda59e754",
   "metadata": {},
   "outputs": [],
   "source": [
    "# rename column CANCELLED to Flight_Num\n",
    "flights_agg.rename(columns={'CANCELLED':'Flight_Num'}, inplace=True)"
   ]
  },
  {
   "cell_type": "code",
   "execution_count": 42,
   "id": "978a500a-d729-4ff2-9498-c2d6e43abfc7",
   "metadata": {},
   "outputs": [],
   "source": [
    "# aggregate tickets based on ORIGIN and DESTINATION, and take median value of ITIN_FARE in aggregation, since observations have skewed distribution\n",
    "tickets_agg = tickets.groupby(['ORIGIN','DESTINATION']).aggregate({'ITIN_FARE': 'median'}).reset_index()"
   ]
  },
  {
   "cell_type": "code",
   "execution_count": 43,
   "id": "0f7c5acb-f7ab-43cc-8d4d-a05a6788286c",
   "metadata": {},
   "outputs": [],
   "source": [
    "# inner join flights_agg and tickets_agg\n",
    "airline = flights_agg.merge(tickets_agg, on=['ORIGIN','DESTINATION'], how='inner')"
   ]
  },
  {
   "cell_type": "code",
   "execution_count": 44,
   "id": "38c41072-e496-49d6-8ec8-704c30c94243",
   "metadata": {},
   "outputs": [
    {
     "data": {
      "text/html": [
       "<div>\n",
       "<style scoped>\n",
       "    .dataframe tbody tr th:only-of-type {\n",
       "        vertical-align: middle;\n",
       "    }\n",
       "\n",
       "    .dataframe tbody tr th {\n",
       "        vertical-align: top;\n",
       "    }\n",
       "\n",
       "    .dataframe thead th {\n",
       "        text-align: right;\n",
       "    }\n",
       "</style>\n",
       "<table border=\"1\" class=\"dataframe\">\n",
       "  <thead>\n",
       "    <tr style=\"text-align: right;\">\n",
       "      <th></th>\n",
       "      <th>ORIGIN</th>\n",
       "      <th>DESTINATION</th>\n",
       "      <th>ORIGIN_CITY_NAME</th>\n",
       "      <th>DEST_CITY_NAME</th>\n",
       "      <th>DEP_DELAY</th>\n",
       "      <th>ARR_DELAY</th>\n",
       "      <th>Flight_Num</th>\n",
       "      <th>AIR_TIME</th>\n",
       "      <th>DISTANCE</th>\n",
       "      <th>Passenger_Num</th>\n",
       "      <th>ITIN_FARE</th>\n",
       "    </tr>\n",
       "  </thead>\n",
       "  <tbody>\n",
       "    <tr>\n",
       "      <th>0</th>\n",
       "      <td>ABE</td>\n",
       "      <td>ATL</td>\n",
       "      <td>Allentown/Bethlehem/Easton, PA</td>\n",
       "      <td>Atlanta, GA</td>\n",
       "      <td>1654.00</td>\n",
       "      <td>2981.00</td>\n",
       "      <td>217</td>\n",
       "      <td>23225.00</td>\n",
       "      <td>150164.00</td>\n",
       "      <td>27844.00</td>\n",
       "      <td>495.00</td>\n",
       "    </tr>\n",
       "    <tr>\n",
       "      <th>1</th>\n",
       "      <td>ABE</td>\n",
       "      <td>CLT</td>\n",
       "      <td>Allentown/Bethlehem/Easton, PA</td>\n",
       "      <td>Charlotte, NC</td>\n",
       "      <td>2003.00</td>\n",
       "      <td>2854.00</td>\n",
       "      <td>251</td>\n",
       "      <td>24842.00</td>\n",
       "      <td>120731.00</td>\n",
       "      <td>33432.00</td>\n",
       "      <td>496.00</td>\n",
       "    </tr>\n",
       "    <tr>\n",
       "      <th>2</th>\n",
       "      <td>ABE</td>\n",
       "      <td>DTW</td>\n",
       "      <td>Allentown/Bethlehem/Easton, PA</td>\n",
       "      <td>Detroit, MI</td>\n",
       "      <td>3700.00</td>\n",
       "      <td>4601.00</td>\n",
       "      <td>248</td>\n",
       "      <td>20691.00</td>\n",
       "      <td>105400.00</td>\n",
       "      <td>31698.00</td>\n",
       "      <td>525.00</td>\n",
       "    </tr>\n",
       "    <tr>\n",
       "      <th>3</th>\n",
       "      <td>ABE</td>\n",
       "      <td>FLL</td>\n",
       "      <td>Allentown/Bethlehem/Easton, PA</td>\n",
       "      <td>Fort Lauderdale, FL</td>\n",
       "      <td>334.00</td>\n",
       "      <td>350.00</td>\n",
       "      <td>20</td>\n",
       "      <td>2913.00</td>\n",
       "      <td>20820.00</td>\n",
       "      <td>2320.00</td>\n",
       "      <td>193.00</td>\n",
       "    </tr>\n",
       "    <tr>\n",
       "      <th>4</th>\n",
       "      <td>ABE</td>\n",
       "      <td>ORD</td>\n",
       "      <td>Allentown/Bethlehem/Easton, PA</td>\n",
       "      <td>Chicago, IL</td>\n",
       "      <td>3593.00</td>\n",
       "      <td>4371.00</td>\n",
       "      <td>159</td>\n",
       "      <td>17637.00</td>\n",
       "      <td>103986.00</td>\n",
       "      <td>21344.00</td>\n",
       "      <td>544.00</td>\n",
       "    </tr>\n",
       "  </tbody>\n",
       "</table>\n",
       "</div>"
      ],
      "text/plain": [
       "  ORIGIN DESTINATION                ORIGIN_CITY_NAME       DEST_CITY_NAME  \\\n",
       "0    ABE         ATL  Allentown/Bethlehem/Easton, PA          Atlanta, GA   \n",
       "1    ABE         CLT  Allentown/Bethlehem/Easton, PA        Charlotte, NC   \n",
       "2    ABE         DTW  Allentown/Bethlehem/Easton, PA          Detroit, MI   \n",
       "3    ABE         FLL  Allentown/Bethlehem/Easton, PA  Fort Lauderdale, FL   \n",
       "4    ABE         ORD  Allentown/Bethlehem/Easton, PA          Chicago, IL   \n",
       "\n",
       "   DEP_DELAY  ARR_DELAY  Flight_Num  AIR_TIME  DISTANCE  Passenger_Num  \\\n",
       "0    1654.00    2981.00         217  23225.00 150164.00       27844.00   \n",
       "1    2003.00    2854.00         251  24842.00 120731.00       33432.00   \n",
       "2    3700.00    4601.00         248  20691.00 105400.00       31698.00   \n",
       "3     334.00     350.00          20   2913.00  20820.00        2320.00   \n",
       "4    3593.00    4371.00         159  17637.00 103986.00       21344.00   \n",
       "\n",
       "   ITIN_FARE  \n",
       "0     495.00  \n",
       "1     496.00  \n",
       "2     525.00  \n",
       "3     193.00  \n",
       "4     544.00  "
      ]
     },
     "execution_count": 44,
     "metadata": {},
     "output_type": "execute_result"
    }
   ],
   "source": [
    "airline.head()"
   ]
  },
  {
   "cell_type": "markdown",
   "id": "f3f3e2f5-c26b-420e-9711-7039ceca1f84",
   "metadata": {},
   "source": [
    "Since we are considering round trip here, which is the combination of JFK to ORD and ORD to JFK, the opposite order of the route, ORD to JFK and JFK to ORD, would be considered the same round trip. So I would sort the 'ORIGIN' and 'DESTINATION' values within each row to create a consistent identifier for the round trip route, regardless of the order of the airports."
   ]
  },
  {
   "cell_type": "code",
   "execution_count": 45,
   "id": "47b7c3ca-8ec3-4aae-b0ea-d3e500ad2b50",
   "metadata": {},
   "outputs": [],
   "source": [
    "# sort and concatenate airport codes\n",
    "def sort_airports(df):\n",
    "    return '-'.join(sorted([df['ORIGIN'], df['DESTINATION']]))"
   ]
  },
  {
   "cell_type": "code",
   "execution_count": 46,
   "id": "e50481ca-84c4-40eb-a0c3-99fb0fe3e5ca",
   "metadata": {},
   "outputs": [],
   "source": [
    "# add a new column 'Route', group by with 'Route' and aggregate other columns as needed\n",
    "airline['Route'] = airline.apply(sort_airports, axis=1)\n",
    "\n",
    "# Group by the new column and aggregate as needed\n",
    "airline = airline.groupby('Route').agg({'ORIGIN': 'first',\n",
    "                                        'DESTINATION': 'first',\n",
    "                                        'ORIGIN_CITY_NAME': 'first',\n",
    "                                        'DEST_CITY_NAME': 'first',\n",
    "                                        'DEP_DELAY': 'sum',\n",
    "                                        'ARR_DELAY': 'sum',\n",
    "                                        'AIR_TIME': 'sum',\n",
    "                                        'Flight_Num': 'sum',\n",
    "                                        'DISTANCE': 'sum',\n",
    "                                        'Passenger_Num': 'sum',\n",
    "                                        'ITIN_FARE': 'median'}).reset_index()"
   ]
  },
  {
   "cell_type": "code",
   "execution_count": 47,
   "id": "94807bba-89d1-4266-bf3e-8a6522ad4b41",
   "metadata": {},
   "outputs": [],
   "source": [
    "# add prefix to a list of columns\n",
    "def add_prefix(df, column_list, prefix):\n",
    "    new_columns = [prefix + col if col in column_list else col for col in df.columns]\n",
    "    df.columns = new_columns"
   ]
  },
  {
   "cell_type": "code",
   "execution_count": 48,
   "id": "4fd5832c-d87a-4fe8-aa0d-6ddcb35020a2",
   "metadata": {},
   "outputs": [],
   "source": [
    "# inner join airline with airport based on ORIGIN\n",
    "airline = airline.merge(airport, left_on='ORIGIN', right_on='IATA_CODE')\n",
    "\n",
    "# drop IATA_CODE and rename columns\n",
    "airline.drop(columns=['IATA_CODE'], inplace=True)\n",
    "add_prefix(airline, ['TYPE','NAME','Longitude','Latitude'], 'Origin_')"
   ]
  },
  {
   "cell_type": "code",
   "execution_count": 49,
   "id": "c8a14a97-2813-4ec1-bce5-208dcfc8336d",
   "metadata": {},
   "outputs": [],
   "source": [
    "# inner join airline with airport based on DESTINATION\n",
    "airline = airline.merge(airport, left_on='DESTINATION', right_on='IATA_CODE')\n",
    "\n",
    "# drop IATA_CODE and rename columns\n",
    "airline.drop(columns=['IATA_CODE'], inplace=True)\n",
    "add_prefix(airline, ['TYPE','NAME','Longitude','Latitude'], 'Destination_')"
   ]
  },
  {
   "cell_type": "code",
   "execution_count": 50,
   "id": "7cb4086f-3075-4c8b-aea1-60c8c559230a",
   "metadata": {},
   "outputs": [
    {
     "data": {
      "application/vnd.jupyter.widget-view+json": {
       "model_id": "4dc9003b9f5f4341b328d65a8a72d375",
       "version_major": 2,
       "version_minor": 0
      },
      "text/plain": [
       "Summarize dataset:   0%|          | 0/5 [00:00<?, ?it/s]"
      ]
     },
     "metadata": {},
     "output_type": "display_data"
    },
    {
     "data": {
      "application/vnd.jupyter.widget-view+json": {
       "model_id": "f9a13fce0eff43ddaae9f1096ae2d6b3",
       "version_major": 2,
       "version_minor": 0
      },
      "text/plain": [
       "Generate report structure:   0%|          | 0/1 [00:00<?, ?it/s]"
      ]
     },
     "metadata": {},
     "output_type": "display_data"
    },
    {
     "data": {
      "application/vnd.jupyter.widget-view+json": {
       "model_id": "8e54f04f429046b789c0920f9233dbfb",
       "version_major": 2,
       "version_minor": 0
      },
      "text/plain": [
       "Render HTML:   0%|          | 0/1 [00:00<?, ?it/s]"
      ]
     },
     "metadata": {},
     "output_type": "display_data"
    },
    {
     "data": {
      "application/vnd.jupyter.widget-view+json": {
       "model_id": "090dbefdbe3b4638b4f32b89edfec8f1",
       "version_major": 2,
       "version_minor": 0
      },
      "text/plain": [
       "Export report to file:   0%|          | 0/1 [00:00<?, ?it/s]"
      ]
     },
     "metadata": {},
     "output_type": "display_data"
    }
   ],
   "source": [
    "# create data profile html file\n",
    "profile = ProfileReport(airline, title='Airline Profiling Report', html={'style':{'full_width':True}})\n",
    "profile.to_file(\"airline_profile.html\")"
   ]
  },
  {
   "cell_type": "markdown",
   "id": "52c9db36-7628-440a-8b90-e5df4bbc111e",
   "metadata": {
    "tags": []
   },
   "source": [
    "# 4. Data Visualization and Recommendation"
   ]
  },
  {
   "cell_type": "markdown",
   "id": "3ab01cd7-693e-4dc6-af98-e22e1a0d5523",
   "metadata": {
    "tags": []
   },
   "source": [
    "## Task 1: 10 busiest round trip routes\n",
    "The 10 busiest round trip routes in terms of number of round trip flights in the quarter."
   ]
  },
  {
   "cell_type": "code",
   "execution_count": 51,
   "id": "274dc542-dad9-4663-bae5-31ff071e4519",
   "metadata": {},
   "outputs": [
    {
     "data": {
      "image/png": "[encoded data removed]",
      "text/plain": [
       "<Figure size 640x480 with 1 Axes>"
      ]
     },
     "metadata": {},
     "output_type": "display_data"
    }
   ],
   "source": [
    "task_1 = airline.sort_values(by='Flight_Num',ascending=False)[:10]\n",
    "\n",
    "ax = sns.barplot(x=task_1['Route'],y=task_1['Flight_Num'])\n",
    "ax.set_xticklabels(ax.get_xticklabels(),rotation = 60)\n",
    "ax.set_title(\"10 Busiest Round Trip Routes\")\n",
    "\n",
    "for p in ax.patches:\n",
    "    ax.annotate(f'{int(p.get_height())}', (p.get_x() + p.get_width() / 2., p.get_height()), ha='center', va='center', xytext=(0, 10), textcoords='offset points')\n",
    "\n",
    "plt.show()"
   ]
  },
  {
   "cell_type": "code",
   "execution_count": 52,
   "id": "ce4b31d9-e9ef-4cc6-94a8-1948203ec3c1",
   "metadata": {},
   "outputs": [
    {
     "data": {
      "text/html": [
       "<div>\n",
       "<style scoped>\n",
       "    .dataframe tbody tr th:only-of-type {\n",
       "        vertical-align: middle;\n",
       "    }\n",
       "\n",
       "    .dataframe tbody tr th {\n",
       "        vertical-align: top;\n",
       "    }\n",
       "\n",
       "    .dataframe thead th {\n",
       "        text-align: right;\n",
       "    }\n",
       "</style>\n",
       "<table border=\"1\" class=\"dataframe\">\n",
       "  <thead>\n",
       "    <tr style=\"text-align: right;\">\n",
       "      <th></th>\n",
       "      <th>Route</th>\n",
       "      <th>ORIGIN_CITY_NAME</th>\n",
       "      <th>DEST_CITY_NAME</th>\n",
       "      <th>Passenger_Num</th>\n",
       "      <th>Flight_Num</th>\n",
       "    </tr>\n",
       "  </thead>\n",
       "  <tbody>\n",
       "    <tr>\n",
       "      <th>1064</th>\n",
       "      <td>LAX-SFO</td>\n",
       "      <td>Los Angeles, CA</td>\n",
       "      <td>San Francisco, CA</td>\n",
       "      <td>1082554.00</td>\n",
       "      <td>8340</td>\n",
       "    </tr>\n",
       "    <tr>\n",
       "      <th>178</th>\n",
       "      <td>LGA-ORD</td>\n",
       "      <td>New York, NY</td>\n",
       "      <td>Chicago, IL</td>\n",
       "      <td>929026.00</td>\n",
       "      <td>7156</td>\n",
       "    </tr>\n",
       "    <tr>\n",
       "      <th>579</th>\n",
       "      <td>LAS-LAX</td>\n",
       "      <td>Las Vegas, NV</td>\n",
       "      <td>Los Angeles, CA</td>\n",
       "      <td>845678.00</td>\n",
       "      <td>6511</td>\n",
       "    </tr>\n",
       "    <tr>\n",
       "      <th>577</th>\n",
       "      <td>JFK-LAX</td>\n",
       "      <td>New York, NY</td>\n",
       "      <td>Los Angeles, CA</td>\n",
       "      <td>821694.00</td>\n",
       "      <td>6320</td>\n",
       "    </tr>\n",
       "    <tr>\n",
       "      <th>994</th>\n",
       "      <td>LAX-SEA</td>\n",
       "      <td>Los Angeles, CA</td>\n",
       "      <td>Seattle, WA</td>\n",
       "      <td>654284.00</td>\n",
       "      <td>4999</td>\n",
       "    </tr>\n",
       "    <tr>\n",
       "      <th>2395</th>\n",
       "      <td>BOS-LGA</td>\n",
       "      <td>Boston, MA</td>\n",
       "      <td>New York, NY</td>\n",
       "      <td>627434.00</td>\n",
       "      <td>4820</td>\n",
       "    </tr>\n",
       "    <tr>\n",
       "      <th>2214</th>\n",
       "      <td>HNL-OGG</td>\n",
       "      <td>Honolulu, HI</td>\n",
       "      <td>Kahului, HI</td>\n",
       "      <td>620950.00</td>\n",
       "      <td>4794</td>\n",
       "    </tr>\n",
       "    <tr>\n",
       "      <th>1012</th>\n",
       "      <td>PDX-SEA</td>\n",
       "      <td>Portland, OR</td>\n",
       "      <td>Seattle, WA</td>\n",
       "      <td>620644.00</td>\n",
       "      <td>4774</td>\n",
       "    </tr>\n",
       "    <tr>\n",
       "      <th>608</th>\n",
       "      <td>ATL-MCO</td>\n",
       "      <td>Atlanta, GA</td>\n",
       "      <td>Orlando, FL</td>\n",
       "      <td>611424.00</td>\n",
       "      <td>4707</td>\n",
       "    </tr>\n",
       "    <tr>\n",
       "      <th>2390</th>\n",
       "      <td>ATL-LGA</td>\n",
       "      <td>Atlanta, GA</td>\n",
       "      <td>New York, NY</td>\n",
       "      <td>598240.00</td>\n",
       "      <td>4594</td>\n",
       "    </tr>\n",
       "  </tbody>\n",
       "</table>\n",
       "</div>"
      ],
      "text/plain": [
       "        Route ORIGIN_CITY_NAME     DEST_CITY_NAME  Passenger_Num  Flight_Num\n",
       "1064  LAX-SFO  Los Angeles, CA  San Francisco, CA     1082554.00        8340\n",
       "178   LGA-ORD     New York, NY        Chicago, IL      929026.00        7156\n",
       "579   LAS-LAX    Las Vegas, NV    Los Angeles, CA      845678.00        6511\n",
       "577   JFK-LAX     New York, NY    Los Angeles, CA      821694.00        6320\n",
       "994   LAX-SEA  Los Angeles, CA        Seattle, WA      654284.00        4999\n",
       "2395  BOS-LGA       Boston, MA       New York, NY      627434.00        4820\n",
       "2214  HNL-OGG     Honolulu, HI        Kahului, HI      620950.00        4794\n",
       "1012  PDX-SEA     Portland, OR        Seattle, WA      620644.00        4774\n",
       "608   ATL-MCO      Atlanta, GA        Orlando, FL      611424.00        4707\n",
       "2390  ATL-LGA      Atlanta, GA       New York, NY      598240.00        4594"
      ]
     },
     "execution_count": 52,
     "metadata": {},
     "output_type": "execute_result"
    }
   ],
   "source": [
    "task_1[['Route','ORIGIN_CITY_NAME','DEST_CITY_NAME','Passenger_Num','Flight_Num']]"
   ]
  },
  {
   "cell_type": "markdown",
   "id": "4b101d7a-6b86-46e3-8c36-7320be60cf73",
   "metadata": {
    "tags": []
   },
   "source": [
    "## Task 2: 10 most profitable round trip routes\n",
    "The 10 most profitable round trip routes (without considering the upfront airplane cost) in the quarter. Along with the profit, show total revenue, total cost, summary values of other key components and total round trip flights in the quarter for the top 10 most profitable routes."
   ]
  },
  {
   "cell_type": "markdown",
   "id": "f5d9a3ca-d7b6-422d-8e22-9ba0782b213a",
   "metadata": {},
   "source": [
    "**Costs:**\n",
    "- Fuel, Oil, Maintenance, Crew - $8 per mile total\n",
    "\n",
    "- Depreciation, Insurance, Other - $1.18 per mile total\n",
    "\n",
    "- Airport operational costs for the right to use the airports and related services are fixed at \\\\$5,000 for medium airports and \\\\$10,000 for large airports. There is one charge for each airport where a flight lands. Thus, a round trip flight has a total of two airport charges.\n",
    "\n",
    "- Delays that are 15 minutes or less are free, however each additional minute of delay costs the airline $75 in added operational costs. This is charged separately for both arrival and departure delays.\n",
    "\n",
    "- *Each airplane will cost $90 million (exclude in this task)"
   ]
  },
  {
   "cell_type": "code",
   "execution_count": 53,
   "id": "f5be597a-81d9-4475-a235-56a13391e309",
   "metadata": {},
   "outputs": [],
   "source": [
    "task_2 = airline.copy()"
   ]
  },
  {
   "cell_type": "code",
   "execution_count": 54,
   "id": "e7b1367b-5cda-4bfd-9970-16a9aa692b6a",
   "metadata": {},
   "outputs": [],
   "source": [
    "# calculate cost\n",
    "task_2['Cost_Maintenance'] = task_2['DISTANCE']*(8+1.18)\n",
    "task_2['Cost_Operation'] = (task_2['Flight_Num'] * np.where(task_2['Origin_TYPE'] == 'medium_airport', 5000, 10000)) + \\\n",
    "                            (task_2['Flight_Num'] * np.where(task_2['Destination_TYPE'] == 'medium_airport', 5000, 10000))\n",
    "task_2['Cost_Delay'] = (task_2['DEP_DELAY']-15)*75 + (task_2['ARR_DELAY']-15)*75\n",
    "\n",
    "task_2['Total_Cost'] = task_2['Cost_Maintenance']+task_2['Cost_Operation']+task_2['Cost_Delay']"
   ]
  },
  {
   "cell_type": "markdown",
   "id": "83950470-f17d-4772-8ec1-89e8cd8b3a83",
   "metadata": {},
   "source": [
    "**Revenue:**\n",
    "- Each plane can accommodate up to 200 passengers and each flight has an associated occupancy rate provided in the Flights data set.\n",
    "\n",
    "- Baggage fee is \\\\$35 for each checked bag per flight. We expect 50% of passengers to check an average of 1 bag per flight. The fee is charged separately for each leg of a round trip flight, thus 50% of passengers will be charged a total of \\\\$70 in baggage fees for a round trip flight."
   ]
  },
  {
   "cell_type": "code",
   "execution_count": 55,
   "id": "e99457d3-9856-419c-a32d-e685f4bc2acf",
   "metadata": {},
   "outputs": [],
   "source": [
    "# calculate revenue\n",
    "task_2['Revenue_Fare'] = task_2['Passenger_Num'] * task_2['ITIN_FARE']\n",
    "task_2['Revenue_Baggage'] = task_2['Passenger_Num']*0.5*70\n",
    "task_2['Total_Revenue'] = task_2['Revenue_Fare'] + task_2['Revenue_Baggage']"
   ]
  },
  {
   "cell_type": "code",
   "execution_count": 56,
   "id": "a92d1ab3-2ba9-4762-8c39-be9f4ab2c4b2",
   "metadata": {},
   "outputs": [
    {
     "data": {
      "image/png": "[encoded data removed]",
      "text/plain": [
       "<Figure size 640x480 with 1 Axes>"
      ]
     },
     "metadata": {},
     "output_type": "display_data"
    }
   ],
   "source": [
    "task_2['Total_Profit'] = task_2['Total_Revenue'] - task_2['Total_Cost']\n",
    "task_2.rename(columns={'Flight_Num':'Total_Flight_Num','Passenger_Num':'Total_Passenger_Num'}, inplace=True)\n",
    "task_2re = task_2.sort_values(by='Total_Profit', ascending=False)[:10]\n",
    "\n",
    "ax = sns.barplot(x=task_2re['Route'],y=task_2re['Total_Profit'])\n",
    "ax.set_xticklabels(ax.get_xticklabels(),rotation = 60)\n",
    "ax.set_title(\"10 Most Profitable Round Trip Routes\")\n",
    "ax.yaxis.set_major_formatter(ticker.FuncFormatter(lambda x, pos: f'{x/1e6:.0f}M'))\n",
    "\n",
    "plt.show()"
   ]
  },
  {
   "cell_type": "code",
   "execution_count": 57,
   "id": "08580e40-53b3-4afe-9598-63845a9d085f",
   "metadata": {},
   "outputs": [
    {
     "data": {
      "text/html": [
       "<div>\n",
       "<style scoped>\n",
       "    .dataframe tbody tr th:only-of-type {\n",
       "        vertical-align: middle;\n",
       "    }\n",
       "\n",
       "    .dataframe tbody tr th {\n",
       "        vertical-align: top;\n",
       "    }\n",
       "\n",
       "    .dataframe thead th {\n",
       "        text-align: right;\n",
       "    }\n",
       "</style>\n",
       "<table border=\"1\" class=\"dataframe\">\n",
       "  <thead>\n",
       "    <tr style=\"text-align: right;\">\n",
       "      <th></th>\n",
       "      <th>Route</th>\n",
       "      <th>ORIGIN_CITY_NAME</th>\n",
       "      <th>DEST_CITY_NAME</th>\n",
       "      <th>Cost_Maintenance</th>\n",
       "      <th>Cost_Operation</th>\n",
       "      <th>Cost_Delay</th>\n",
       "      <th>Total_Cost</th>\n",
       "      <th>Revenue_Fare</th>\n",
       "      <th>Revenue_Baggage</th>\n",
       "      <th>Total_Revenue</th>\n",
       "      <th>Total_Flight_Num</th>\n",
       "      <th>Total_Profit</th>\n",
       "    </tr>\n",
       "  </thead>\n",
       "  <tbody>\n",
       "    <tr>\n",
       "      <th>132</th>\n",
       "      <td>DCA-ORD</td>\n",
       "      <td>Washington, DC</td>\n",
       "      <td>Chicago, IL</td>\n",
       "      <td>20759101.20</td>\n",
       "      <td>73900000</td>\n",
       "      <td>7970025.00</td>\n",
       "      <td>102629126.20</td>\n",
       "      <td>239407000.00</td>\n",
       "      <td>16758490.00</td>\n",
       "      <td>256165490.00</td>\n",
       "      <td>3695</td>\n",
       "      <td>153536363.80</td>\n",
       "    </tr>\n",
       "    <tr>\n",
       "      <th>11</th>\n",
       "      <td>ATL-CLT</td>\n",
       "      <td>Atlanta, GA</td>\n",
       "      <td>Charlotte, NC</td>\n",
       "      <td>6381715.68</td>\n",
       "      <td>61520000</td>\n",
       "      <td>3498525.00</td>\n",
       "      <td>71400240.68</td>\n",
       "      <td>196400496.00</td>\n",
       "      <td>13971580.00</td>\n",
       "      <td>210372076.00</td>\n",
       "      <td>3076</td>\n",
       "      <td>138971835.32</td>\n",
       "    </tr>\n",
       "    <tr>\n",
       "      <th>2409</th>\n",
       "      <td>DCA-LGA</td>\n",
       "      <td>Washington, DC</td>\n",
       "      <td>New York, NY</td>\n",
       "      <td>6598822.68</td>\n",
       "      <td>67180000</td>\n",
       "      <td>9065850.00</td>\n",
       "      <td>82844672.68</td>\n",
       "      <td>199702132.00</td>\n",
       "      <td>15344840.00</td>\n",
       "      <td>215046972.00</td>\n",
       "      <td>3359</td>\n",
       "      <td>132202299.32</td>\n",
       "    </tr>\n",
       "    <tr>\n",
       "      <th>577</th>\n",
       "      <td>JFK-LAX</td>\n",
       "      <td>New York, NY</td>\n",
       "      <td>Los Angeles, CA</td>\n",
       "      <td>143593560.00</td>\n",
       "      <td>126400000</td>\n",
       "      <td>9762300.00</td>\n",
       "      <td>279755860.00</td>\n",
       "      <td>379622628.00</td>\n",
       "      <td>28759290.00</td>\n",
       "      <td>408381918.00</td>\n",
       "      <td>6320</td>\n",
       "      <td>128626058.00</td>\n",
       "    </tr>\n",
       "    <tr>\n",
       "      <th>1888</th>\n",
       "      <td>CLT-GSP</td>\n",
       "      <td>Charlotte, NC</td>\n",
       "      <td>Greer, SC</td>\n",
       "      <td>1065109.50</td>\n",
       "      <td>30940000</td>\n",
       "      <td>2035650.00</td>\n",
       "      <td>34040759.50</td>\n",
       "      <td>150081815.00</td>\n",
       "      <td>7034300.00</td>\n",
       "      <td>157116115.00</td>\n",
       "      <td>1547</td>\n",
       "      <td>123075355.50</td>\n",
       "    </tr>\n",
       "    <tr>\n",
       "      <th>1808</th>\n",
       "      <td>ATL-DCA</td>\n",
       "      <td>Atlanta, GA</td>\n",
       "      <td>Washington, DC</td>\n",
       "      <td>17514852.48</td>\n",
       "      <td>69760000</td>\n",
       "      <td>4222425.00</td>\n",
       "      <td>91497277.48</td>\n",
       "      <td>188981877.00</td>\n",
       "      <td>15880830.00</td>\n",
       "      <td>204862707.00</td>\n",
       "      <td>3488</td>\n",
       "      <td>113365429.52</td>\n",
       "    </tr>\n",
       "    <tr>\n",
       "      <th>2395</th>\n",
       "      <td>BOS-LGA</td>\n",
       "      <td>Boston, MA</td>\n",
       "      <td>New York, NY</td>\n",
       "      <td>8141558.40</td>\n",
       "      <td>96400000</td>\n",
       "      <td>15454950.00</td>\n",
       "      <td>119996508.40</td>\n",
       "      <td>210033531.50</td>\n",
       "      <td>21960190.00</td>\n",
       "      <td>231993721.50</td>\n",
       "      <td>4820</td>\n",
       "      <td>111997213.10</td>\n",
       "    </tr>\n",
       "    <tr>\n",
       "      <th>189</th>\n",
       "      <td>MSP-ORD</td>\n",
       "      <td>Minneapolis, MN</td>\n",
       "      <td>Chicago, IL</td>\n",
       "      <td>10547452.80</td>\n",
       "      <td>68800000</td>\n",
       "      <td>8659050.00</td>\n",
       "      <td>88006502.80</td>\n",
       "      <td>181011852.00</td>\n",
       "      <td>15858360.00</td>\n",
       "      <td>196870212.00</td>\n",
       "      <td>3440</td>\n",
       "      <td>108863709.20</td>\n",
       "    </tr>\n",
       "    <tr>\n",
       "      <th>135</th>\n",
       "      <td>DFW-ORD</td>\n",
       "      <td>Dallas/Fort Worth, TX</td>\n",
       "      <td>Chicago, IL</td>\n",
       "      <td>24074880.48</td>\n",
       "      <td>65480000</td>\n",
       "      <td>8507175.00</td>\n",
       "      <td>98062055.48</td>\n",
       "      <td>190701738.00</td>\n",
       "      <td>15092280.00</td>\n",
       "      <td>205794018.00</td>\n",
       "      <td>3274</td>\n",
       "      <td>107731962.52</td>\n",
       "    </tr>\n",
       "    <tr>\n",
       "      <th>1064</th>\n",
       "      <td>LAX-SFO</td>\n",
       "      <td>Los Angeles, CA</td>\n",
       "      <td>San Francisco, CA</td>\n",
       "      <td>25801124.40</td>\n",
       "      <td>166800000</td>\n",
       "      <td>26654175.00</td>\n",
       "      <td>219255299.40</td>\n",
       "      <td>287418087.00</td>\n",
       "      <td>37889390.00</td>\n",
       "      <td>325307477.00</td>\n",
       "      <td>8340</td>\n",
       "      <td>106052177.60</td>\n",
       "    </tr>\n",
       "  </tbody>\n",
       "</table>\n",
       "</div>"
      ],
      "text/plain": [
       "        Route       ORIGIN_CITY_NAME     DEST_CITY_NAME  Cost_Maintenance  \\\n",
       "132   DCA-ORD         Washington, DC        Chicago, IL       20759101.20   \n",
       "11    ATL-CLT            Atlanta, GA      Charlotte, NC        6381715.68   \n",
       "2409  DCA-LGA         Washington, DC       New York, NY        6598822.68   \n",
       "577   JFK-LAX           New York, NY    Los Angeles, CA      143593560.00   \n",
       "1888  CLT-GSP          Charlotte, NC          Greer, SC        1065109.50   \n",
       "1808  ATL-DCA            Atlanta, GA     Washington, DC       17514852.48   \n",
       "2395  BOS-LGA             Boston, MA       New York, NY        8141558.40   \n",
       "189   MSP-ORD        Minneapolis, MN        Chicago, IL       10547452.80   \n",
       "135   DFW-ORD  Dallas/Fort Worth, TX        Chicago, IL       24074880.48   \n",
       "1064  LAX-SFO        Los Angeles, CA  San Francisco, CA       25801124.40   \n",
       "\n",
       "      Cost_Operation  Cost_Delay   Total_Cost  Revenue_Fare  Revenue_Baggage  \\\n",
       "132         73900000  7970025.00 102629126.20  239407000.00      16758490.00   \n",
       "11          61520000  3498525.00  71400240.68  196400496.00      13971580.00   \n",
       "2409        67180000  9065850.00  82844672.68  199702132.00      15344840.00   \n",
       "577        126400000  9762300.00 279755860.00  379622628.00      28759290.00   \n",
       "1888        30940000  2035650.00  34040759.50  150081815.00       7034300.00   \n",
       "1808        69760000  4222425.00  91497277.48  188981877.00      15880830.00   \n",
       "2395        96400000 15454950.00 119996508.40  210033531.50      21960190.00   \n",
       "189         68800000  8659050.00  88006502.80  181011852.00      15858360.00   \n",
       "135         65480000  8507175.00  98062055.48  190701738.00      15092280.00   \n",
       "1064       166800000 26654175.00 219255299.40  287418087.00      37889390.00   \n",
       "\n",
       "      Total_Revenue  Total_Flight_Num  Total_Profit  \n",
       "132    256165490.00              3695  153536363.80  \n",
       "11     210372076.00              3076  138971835.32  \n",
       "2409   215046972.00              3359  132202299.32  \n",
       "577    408381918.00              6320  128626058.00  \n",
       "1888   157116115.00              1547  123075355.50  \n",
       "1808   204862707.00              3488  113365429.52  \n",
       "2395   231993721.50              4820  111997213.10  \n",
       "189    196870212.00              3440  108863709.20  \n",
       "135    205794018.00              3274  107731962.52  \n",
       "1064   325307477.00              8340  106052177.60  "
      ]
     },
     "execution_count": 57,
     "metadata": {},
     "output_type": "execute_result"
    }
   ],
   "source": [
    "task_2re[['Route','ORIGIN_CITY_NAME','DEST_CITY_NAME','Cost_Maintenance','Cost_Operation','Cost_Delay','Total_Cost','Revenue_Fare','Revenue_Baggage','Total_Revenue','Total_Flight_Num','Total_Profit']]"
   ]
  },
  {
   "cell_type": "markdown",
   "id": "35533874-1f07-460f-863d-fbf3d9c2d290",
   "metadata": {
    "tags": []
   },
   "source": [
    "## Task 3: 5 recommended round trip routes\n",
    "The 5 round trip routes that you recommend to invest in based on any factors that you choose."
   ]
  },
  {
   "cell_type": "markdown",
   "id": "34e8d134-7329-40dd-b4ff-3de2c7afecd5",
   "metadata": {},
   "source": [
    "* Specific routes exhibited lower operational frequencies during this quarter, and a subset of flights recorded notably limited passenger counts. Given the potential volatility and unreliability associated with making decisions based on such sparse data points, a cautious approach is warranted. To address this, we have taken the initiative to filter out routes with flight numbers fewer than 100 and passenger counts below 10,000. \n",
    "\n",
    "* Additionally, it's imperative to consider the potential for profitability. To address this, we exclude routes that do not yield a profit."
   ]
  },
  {
   "cell_type": "code",
   "execution_count": 58,
   "id": "abe6a300-bf8a-451e-b924-232096818d4b",
   "metadata": {},
   "outputs": [
    {
     "name": "stdout",
     "output_type": "stream",
     "text": [
      "470 routes are filtered out, and the remaining number of routes is: 2323\n"
     ]
    }
   ],
   "source": [
    "task_3 = task_2.copy()\n",
    "task_3re = task_3[(task_3['Total_Flight_Num']>=100) & (task_3['Total_Passenger_Num']>=10000) & (task_3['Total_Profit']>0)]\n",
    "print(f'{task_3.shape[0]-task_3re.shape[0]} routes are filtered out, and the remaining number of routes is: {task_3re.shape[0]}')"
   ]
  },
  {
   "cell_type": "markdown",
   "id": "087bf508-8eab-4412-aa34-39bd12d3d56d",
   "metadata": {},
   "source": [
    "* In order to get breakeven as soon as possible, we use Profit_per_Trip as a key factor\n",
    "* While profitability is a significant consideration, the airline industry's volatility is influenced by various factors such as fuel prices, weather conditions, and more. Given this unpredictability, selecting flight routes with higher profit margins becomes crucial. This strategy provides a safety net to mitigate potential disruptions, allowing for better resilience in case unforeseen challenges arise. **Profit_Margin = Profit / Revenue**"
   ]
  },
  {
   "cell_type": "code",
   "execution_count": 59,
   "id": "999d9090-bdf0-4e80-a793-fd05b25bb692",
   "metadata": {},
   "outputs": [],
   "source": [
    "task_3re['Total_Profit_Margin'] = task_3re['Total_Profit']/task_3re['Total_Revenue']"
   ]
  },
  {
   "cell_type": "markdown",
   "id": "2896f5ad-671b-49f4-996c-37ec59bdd772",
   "metadata": {},
   "source": [
    "**Recommendation Score:**\n",
    "\n",
    "Our focus centers on offering route recommendations for airline companies aiming to tap into the US domestic market. To achieve this, our overarching objectives encompass:\n",
    "1. Elevating Profitability\n",
    "2. Expanding Customer Base\n",
    "3. Enhancing Punctuality\n",
    "\n",
    "Therefore, the proposed score metric should encompass the following key factors:\n",
    "1. Profit & Profit_Margin\n",
    "2. Passenger_Num & Flight_Num\n",
    "3. DEP_DELAY & ARR_DELAY\n",
    "\n",
    "Tailoring the weightage for each pivotal factor enables a flexible approach, accommodating varying emphases. As a starting point, we will designate weights as follows:\n",
    "* Profit: 0.5\n",
    "* Profit_Margin: 0.3\n",
    "* Passenger_Num: 0.4\n",
    "* Flight_Num: 0.4\n",
    "* DEP_DELAY: -0.3\n",
    "* ARR_DELAY: -0.3"
   ]
  },
  {
   "cell_type": "code",
   "execution_count": 60,
   "id": "47988c99-5c15-4b99-8a6b-6a287ca20d90",
   "metadata": {},
   "outputs": [
    {
     "data": {
      "text/html": [
       "<div>\n",
       "<style scoped>\n",
       "    .dataframe tbody tr th:only-of-type {\n",
       "        vertical-align: middle;\n",
       "    }\n",
       "\n",
       "    .dataframe tbody tr th {\n",
       "        vertical-align: top;\n",
       "    }\n",
       "\n",
       "    .dataframe thead th {\n",
       "        text-align: right;\n",
       "    }\n",
       "</style>\n",
       "<table border=\"1\" class=\"dataframe\">\n",
       "  <thead>\n",
       "    <tr style=\"text-align: right;\">\n",
       "      <th></th>\n",
       "      <th>Route</th>\n",
       "      <th>ORIGIN</th>\n",
       "      <th>DESTINATION</th>\n",
       "      <th>ORIGIN_CITY_NAME</th>\n",
       "      <th>DEST_CITY_NAME</th>\n",
       "      <th>DEP_DELAY</th>\n",
       "      <th>ARR_DELAY</th>\n",
       "      <th>AIR_TIME</th>\n",
       "      <th>Total_Flight_Num</th>\n",
       "      <th>DISTANCE</th>\n",
       "      <th>...</th>\n",
       "      <th>Destination_Latitude</th>\n",
       "      <th>Cost_Maintenance</th>\n",
       "      <th>Cost_Operation</th>\n",
       "      <th>Cost_Delay</th>\n",
       "      <th>Total_Cost</th>\n",
       "      <th>Revenue_Fare</th>\n",
       "      <th>Revenue_Baggage</th>\n",
       "      <th>Total_Revenue</th>\n",
       "      <th>Total_Profit</th>\n",
       "      <th>Total_Profit_Margin</th>\n",
       "    </tr>\n",
       "  </thead>\n",
       "  <tbody>\n",
       "    <tr>\n",
       "      <th>0</th>\n",
       "      <td>ABE-ATL</td>\n",
       "      <td>ABE</td>\n",
       "      <td>ATL</td>\n",
       "      <td>Allentown/Bethlehem/Easton, PA</td>\n",
       "      <td>Atlanta, GA</td>\n",
       "      <td>0.02</td>\n",
       "      <td>0.02</td>\n",
       "      <td>43270.00</td>\n",
       "      <td>0.04</td>\n",
       "      <td>300328.00</td>\n",
       "      <td>...</td>\n",
       "      <td>33.64</td>\n",
       "      <td>2757011.04</td>\n",
       "      <td>6510000</td>\n",
       "      <td>640500.00</td>\n",
       "      <td>9907511.04</td>\n",
       "      <td>32544108.00</td>\n",
       "      <td>1987860.00</td>\n",
       "      <td>34531968.00</td>\n",
       "      <td>0.16</td>\n",
       "      <td>0.76</td>\n",
       "    </tr>\n",
       "    <tr>\n",
       "      <th>1</th>\n",
       "      <td>ABQ-ATL</td>\n",
       "      <td>ABQ</td>\n",
       "      <td>ATL</td>\n",
       "      <td>Albuquerque, NM</td>\n",
       "      <td>Atlanta, GA</td>\n",
       "      <td>0.01</td>\n",
       "      <td>0.01</td>\n",
       "      <td>54067.00</td>\n",
       "      <td>0.03</td>\n",
       "      <td>418770.00</td>\n",
       "      <td>...</td>\n",
       "      <td>33.64</td>\n",
       "      <td>3844308.60</td>\n",
       "      <td>6600000</td>\n",
       "      <td>273750.00</td>\n",
       "      <td>10718058.60</td>\n",
       "      <td>19802815.50</td>\n",
       "      <td>1512490.00</td>\n",
       "      <td>21315305.50</td>\n",
       "      <td>0.07</td>\n",
       "      <td>0.52</td>\n",
       "    </tr>\n",
       "    <tr>\n",
       "      <th>2</th>\n",
       "      <td>ABY-ATL</td>\n",
       "      <td>ABY</td>\n",
       "      <td>ATL</td>\n",
       "      <td>Albany, GA</td>\n",
       "      <td>Atlanta, GA</td>\n",
       "      <td>0.03</td>\n",
       "      <td>0.02</td>\n",
       "      <td>16953.00</td>\n",
       "      <td>0.05</td>\n",
       "      <td>72210.00</td>\n",
       "      <td>...</td>\n",
       "      <td>33.64</td>\n",
       "      <td>662887.80</td>\n",
       "      <td>7470000</td>\n",
       "      <td>736500.00</td>\n",
       "      <td>8869387.80</td>\n",
       "      <td>29901054.00</td>\n",
       "      <td>2261560.00</td>\n",
       "      <td>32162614.00</td>\n",
       "      <td>0.15</td>\n",
       "      <td>0.77</td>\n",
       "    </tr>\n",
       "    <tr>\n",
       "      <th>3</th>\n",
       "      <td>AEX-ATL</td>\n",
       "      <td>AEX</td>\n",
       "      <td>ATL</td>\n",
       "      <td>Alexandria, LA</td>\n",
       "      <td>Atlanta, GA</td>\n",
       "      <td>0.03</td>\n",
       "      <td>0.02</td>\n",
       "      <td>49247.00</td>\n",
       "      <td>0.07</td>\n",
       "      <td>320000.00</td>\n",
       "      <td>...</td>\n",
       "      <td>33.64</td>\n",
       "      <td>2937600.00</td>\n",
       "      <td>9600000</td>\n",
       "      <td>728250.00</td>\n",
       "      <td>13265850.00</td>\n",
       "      <td>41844279.00</td>\n",
       "      <td>2897230.00</td>\n",
       "      <td>44741509.00</td>\n",
       "      <td>0.20</td>\n",
       "      <td>0.75</td>\n",
       "    </tr>\n",
       "    <tr>\n",
       "      <th>4</th>\n",
       "      <td>AGS-ATL</td>\n",
       "      <td>AGS</td>\n",
       "      <td>ATL</td>\n",
       "      <td>Augusta, GA</td>\n",
       "      <td>Atlanta, GA</td>\n",
       "      <td>0.07</td>\n",
       "      <td>0.06</td>\n",
       "      <td>43867.00</td>\n",
       "      <td>0.15</td>\n",
       "      <td>195481.00</td>\n",
       "      <td>...</td>\n",
       "      <td>33.64</td>\n",
       "      <td>1794515.58</td>\n",
       "      <td>27340000</td>\n",
       "      <td>1865550.00</td>\n",
       "      <td>31000065.58</td>\n",
       "      <td>71459520.00</td>\n",
       "      <td>6190800.00</td>\n",
       "      <td>77650320.00</td>\n",
       "      <td>0.30</td>\n",
       "      <td>0.63</td>\n",
       "    </tr>\n",
       "  </tbody>\n",
       "</table>\n",
       "<p>5 rows × 29 columns</p>\n",
       "</div>"
      ],
      "text/plain": [
       "     Route ORIGIN DESTINATION                ORIGIN_CITY_NAME DEST_CITY_NAME  \\\n",
       "0  ABE-ATL    ABE         ATL  Allentown/Bethlehem/Easton, PA    Atlanta, GA   \n",
       "1  ABQ-ATL    ABQ         ATL                 Albuquerque, NM    Atlanta, GA   \n",
       "2  ABY-ATL    ABY         ATL                      Albany, GA    Atlanta, GA   \n",
       "3  AEX-ATL    AEX         ATL                  Alexandria, LA    Atlanta, GA   \n",
       "4  AGS-ATL    AGS         ATL                     Augusta, GA    Atlanta, GA   \n",
       "\n",
       "   DEP_DELAY  ARR_DELAY  AIR_TIME  Total_Flight_Num  DISTANCE  ...  \\\n",
       "0       0.02       0.02  43270.00              0.04 300328.00  ...   \n",
       "1       0.01       0.01  54067.00              0.03 418770.00  ...   \n",
       "2       0.03       0.02  16953.00              0.05  72210.00  ...   \n",
       "3       0.03       0.02  49247.00              0.07 320000.00  ...   \n",
       "4       0.07       0.06  43867.00              0.15 195481.00  ...   \n",
       "\n",
       "   Destination_Latitude  Cost_Maintenance Cost_Operation Cost_Delay  \\\n",
       "0                 33.64        2757011.04        6510000  640500.00   \n",
       "1                 33.64        3844308.60        6600000  273750.00   \n",
       "2                 33.64         662887.80        7470000  736500.00   \n",
       "3                 33.64        2937600.00        9600000  728250.00   \n",
       "4                 33.64        1794515.58       27340000 1865550.00   \n",
       "\n",
       "   Total_Cost  Revenue_Fare Revenue_Baggage Total_Revenue  Total_Profit  \\\n",
       "0  9907511.04   32544108.00      1987860.00   34531968.00          0.16   \n",
       "1 10718058.60   19802815.50      1512490.00   21315305.50          0.07   \n",
       "2  8869387.80   29901054.00      2261560.00   32162614.00          0.15   \n",
       "3 13265850.00   41844279.00      2897230.00   44741509.00          0.20   \n",
       "4 31000065.58   71459520.00      6190800.00   77650320.00          0.30   \n",
       "\n",
       "   Total_Profit_Margin  \n",
       "0                 0.76  \n",
       "1                 0.52  \n",
       "2                 0.77  \n",
       "3                 0.75  \n",
       "4                 0.63  \n",
       "\n",
       "[5 rows x 29 columns]"
      ]
     },
     "execution_count": 60,
     "metadata": {},
     "output_type": "execute_result"
    }
   ],
   "source": [
    "# nomalize factors\n",
    "columns_to_scale = ['Total_Profit', 'Total_Profit_Margin', 'Total_Passenger_Num', 'Total_Flight_Num', 'DEP_DELAY', 'ARR_DELAY'] \n",
    "scaler = MinMaxScaler()\n",
    "task_3re[columns_to_scale] = scaler.fit_transform(task_3re[columns_to_scale])\n",
    "\n",
    "task_3re.head()"
   ]
  },
  {
   "cell_type": "code",
   "execution_count": 61,
   "id": "e3405fe4-b602-4a6c-a37d-1da69b867733",
   "metadata": {},
   "outputs": [
    {
     "data": {
      "text/html": [
       "<div>\n",
       "<style scoped>\n",
       "    .dataframe tbody tr th:only-of-type {\n",
       "        vertical-align: middle;\n",
       "    }\n",
       "\n",
       "    .dataframe tbody tr th {\n",
       "        vertical-align: top;\n",
       "    }\n",
       "\n",
       "    .dataframe thead th {\n",
       "        text-align: right;\n",
       "    }\n",
       "</style>\n",
       "<table border=\"1\" class=\"dataframe\">\n",
       "  <thead>\n",
       "    <tr style=\"text-align: right;\">\n",
       "      <th></th>\n",
       "      <th>Route</th>\n",
       "      <th>ORIGIN</th>\n",
       "      <th>DESTINATION</th>\n",
       "      <th>ORIGIN_CITY_NAME</th>\n",
       "      <th>DEST_CITY_NAME</th>\n",
       "      <th>DEP_DELAY</th>\n",
       "      <th>ARR_DELAY</th>\n",
       "      <th>AIR_TIME</th>\n",
       "      <th>Total_Flight_Num</th>\n",
       "      <th>DISTANCE</th>\n",
       "      <th>...</th>\n",
       "      <th>Cost_Maintenance</th>\n",
       "      <th>Cost_Operation</th>\n",
       "      <th>Cost_Delay</th>\n",
       "      <th>Total_Cost</th>\n",
       "      <th>Revenue_Fare</th>\n",
       "      <th>Revenue_Baggage</th>\n",
       "      <th>Total_Revenue</th>\n",
       "      <th>Total_Profit</th>\n",
       "      <th>Total_Profit_Margin</th>\n",
       "      <th>Score</th>\n",
       "    </tr>\n",
       "  </thead>\n",
       "  <tbody>\n",
       "    <tr>\n",
       "      <th>2214</th>\n",
       "      <td>HNL-OGG</td>\n",
       "      <td>HNL</td>\n",
       "      <td>OGG</td>\n",
       "      <td>Honolulu, HI</td>\n",
       "      <td>Kahului, HI</td>\n",
       "      <td>0.10</td>\n",
       "      <td>0.10</td>\n",
       "      <td>109435.00</td>\n",
       "      <td>0.57</td>\n",
       "      <td>479400.00</td>\n",
       "      <td>...</td>\n",
       "      <td>4400892.00</td>\n",
       "      <td>71910000</td>\n",
       "      <td>2607300.00</td>\n",
       "      <td>78918192.00</td>\n",
       "      <td>162844137.50</td>\n",
       "      <td>21733250.00</td>\n",
       "      <td>184577387.50</td>\n",
       "      <td>0.69</td>\n",
       "      <td>0.60</td>\n",
       "      <td>0.92</td>\n",
       "    </tr>\n",
       "    <tr>\n",
       "      <th>577</th>\n",
       "      <td>JFK-LAX</td>\n",
       "      <td>JFK</td>\n",
       "      <td>LAX</td>\n",
       "      <td>New York, NY</td>\n",
       "      <td>Los Angeles, CA</td>\n",
       "      <td>0.38</td>\n",
       "      <td>0.35</td>\n",
       "      <td>1987018.00</td>\n",
       "      <td>0.75</td>\n",
       "      <td>15642000.00</td>\n",
       "      <td>...</td>\n",
       "      <td>143593560.00</td>\n",
       "      <td>126400000</td>\n",
       "      <td>9762300.00</td>\n",
       "      <td>279755860.00</td>\n",
       "      <td>379622628.00</td>\n",
       "      <td>28759290.00</td>\n",
       "      <td>408381918.00</td>\n",
       "      <td>0.84</td>\n",
       "      <td>0.32</td>\n",
       "      <td>0.90</td>\n",
       "    </tr>\n",
       "    <tr>\n",
       "      <th>11</th>\n",
       "      <td>ATL-CLT</td>\n",
       "      <td>ATL</td>\n",
       "      <td>CLT</td>\n",
       "      <td>Atlanta, GA</td>\n",
       "      <td>Charlotte, NC</td>\n",
       "      <td>0.13</td>\n",
       "      <td>0.13</td>\n",
       "      <td>135529.00</td>\n",
       "      <td>0.36</td>\n",
       "      <td>695176.00</td>\n",
       "      <td>...</td>\n",
       "      <td>6381715.68</td>\n",
       "      <td>61520000</td>\n",
       "      <td>3498525.00</td>\n",
       "      <td>71400240.68</td>\n",
       "      <td>196400496.00</td>\n",
       "      <td>13971580.00</td>\n",
       "      <td>210372076.00</td>\n",
       "      <td>0.91</td>\n",
       "      <td>0.70</td>\n",
       "      <td>0.87</td>\n",
       "    </tr>\n",
       "    <tr>\n",
       "      <th>132</th>\n",
       "      <td>DCA-ORD</td>\n",
       "      <td>DCA</td>\n",
       "      <td>ORD</td>\n",
       "      <td>Washington, DC</td>\n",
       "      <td>Chicago, IL</td>\n",
       "      <td>0.29</td>\n",
       "      <td>0.30</td>\n",
       "      <td>342149.00</td>\n",
       "      <td>0.44</td>\n",
       "      <td>2261340.00</td>\n",
       "      <td>...</td>\n",
       "      <td>20759101.20</td>\n",
       "      <td>73900000</td>\n",
       "      <td>7970025.00</td>\n",
       "      <td>102629126.20</td>\n",
       "      <td>239407000.00</td>\n",
       "      <td>16758490.00</td>\n",
       "      <td>256165490.00</td>\n",
       "      <td>1.00</td>\n",
       "      <td>0.63</td>\n",
       "      <td>0.86</td>\n",
       "    </tr>\n",
       "    <tr>\n",
       "      <th>1808</th>\n",
       "      <td>ATL-DCA</td>\n",
       "      <td>ATL</td>\n",
       "      <td>DCA</td>\n",
       "      <td>Atlanta, GA</td>\n",
       "      <td>Washington, DC</td>\n",
       "      <td>0.16</td>\n",
       "      <td>0.16</td>\n",
       "      <td>289101.00</td>\n",
       "      <td>0.41</td>\n",
       "      <td>1907936.00</td>\n",
       "      <td>...</td>\n",
       "      <td>17514852.48</td>\n",
       "      <td>69760000</td>\n",
       "      <td>4222425.00</td>\n",
       "      <td>91497277.48</td>\n",
       "      <td>188981877.00</td>\n",
       "      <td>15880830.00</td>\n",
       "      <td>204862707.00</td>\n",
       "      <td>0.74</td>\n",
       "      <td>0.58</td>\n",
       "      <td>0.78</td>\n",
       "    </tr>\n",
       "  </tbody>\n",
       "</table>\n",
       "<p>5 rows × 30 columns</p>\n",
       "</div>"
      ],
      "text/plain": [
       "        Route ORIGIN DESTINATION ORIGIN_CITY_NAME   DEST_CITY_NAME  DEP_DELAY  \\\n",
       "2214  HNL-OGG    HNL         OGG     Honolulu, HI      Kahului, HI       0.10   \n",
       "577   JFK-LAX    JFK         LAX     New York, NY  Los Angeles, CA       0.38   \n",
       "11    ATL-CLT    ATL         CLT      Atlanta, GA    Charlotte, NC       0.13   \n",
       "132   DCA-ORD    DCA         ORD   Washington, DC      Chicago, IL       0.29   \n",
       "1808  ATL-DCA    ATL         DCA      Atlanta, GA   Washington, DC       0.16   \n",
       "\n",
       "      ARR_DELAY   AIR_TIME  Total_Flight_Num    DISTANCE  ...  \\\n",
       "2214       0.10  109435.00              0.57   479400.00  ...   \n",
       "577        0.35 1987018.00              0.75 15642000.00  ...   \n",
       "11         0.13  135529.00              0.36   695176.00  ...   \n",
       "132        0.30  342149.00              0.44  2261340.00  ...   \n",
       "1808       0.16  289101.00              0.41  1907936.00  ...   \n",
       "\n",
       "      Cost_Maintenance  Cost_Operation Cost_Delay   Total_Cost  Revenue_Fare  \\\n",
       "2214        4400892.00        71910000 2607300.00  78918192.00  162844137.50   \n",
       "577       143593560.00       126400000 9762300.00 279755860.00  379622628.00   \n",
       "11          6381715.68        61520000 3498525.00  71400240.68  196400496.00   \n",
       "132        20759101.20        73900000 7970025.00 102629126.20  239407000.00   \n",
       "1808       17514852.48        69760000 4222425.00  91497277.48  188981877.00   \n",
       "\n",
       "      Revenue_Baggage Total_Revenue Total_Profit  Total_Profit_Margin  Score  \n",
       "2214      21733250.00  184577387.50         0.69                 0.60   0.92  \n",
       "577       28759290.00  408381918.00         0.84                 0.32   0.90  \n",
       "11        13971580.00  210372076.00         0.91                 0.70   0.87  \n",
       "132       16758490.00  256165490.00         1.00                 0.63   0.86  \n",
       "1808      15880830.00  204862707.00         0.74                 0.58   0.78  \n",
       "\n",
       "[5 rows x 30 columns]"
      ]
     },
     "execution_count": 61,
     "metadata": {},
     "output_type": "execute_result"
    }
   ],
   "source": [
    "# select top 5 routes with the highest score\n",
    "task_3re['Score'] = 0.5*task_3re['Total_Profit'] + 0.3*task_3re['Total_Profit_Margin'] + 0.4*task_3re['Total_Flight_Num'] + 0.4*task_3re['Total_Passenger_Num'] - 0.3*task_3re['DEP_DELAY'] - 0.3*task_3re['ARR_DELAY']\n",
    "task_3re_top5 = task_3re.sort_values(by='Score', ascending=False)[:5]\n",
    "task_3re_top5"
   ]
  },
  {
   "cell_type": "code",
   "execution_count": 62,
   "id": "5798ffec-e572-488d-89ed-bdb691fa3963",
   "metadata": {},
   "outputs": [
    {
     "data": {
      "image/png": "[encoded data removed]",
      "text/plain": [
       "<Figure size 640x480 with 1 Axes>"
      ]
     },
     "metadata": {},
     "output_type": "display_data"
    }
   ],
   "source": [
    "ax = sns.barplot(x=task_3re_top5['Route'],y=task_3re_top5['Score'])\n",
    "ax.set_xticklabels(ax.get_xticklabels(),rotation = 60)\n",
    "ax.set_title(\"5 Recommended Routes\")\n",
    "plt.show()"
   ]
  },
  {
   "cell_type": "markdown",
   "id": "f3dd0f3c-e918-47a9-9cf8-37a2a7d31d00",
   "metadata": {},
   "source": [
    "## Task 4: the number of flights to get to breakeven\n",
    "The number of round trip flights it will take to breakeven on the upfront airplane cost (each airplane will cost $90 million) for each of the 5 round trip routes that you recommend. Print key summary components for these routes."
   ]
  },
  {
   "cell_type": "code",
   "execution_count": 64,
   "id": "a9b4e203-8e53-44fe-8038-7519b5536442",
   "metadata": {},
   "outputs": [
    {
     "data": {
      "text/html": [
       "<div>\n",
       "<style scoped>\n",
       "    .dataframe tbody tr th:only-of-type {\n",
       "        vertical-align: middle;\n",
       "    }\n",
       "\n",
       "    .dataframe tbody tr th {\n",
       "        vertical-align: top;\n",
       "    }\n",
       "\n",
       "    .dataframe thead th {\n",
       "        text-align: right;\n",
       "    }\n",
       "</style>\n",
       "<table border=\"1\" class=\"dataframe\">\n",
       "  <thead>\n",
       "    <tr style=\"text-align: right;\">\n",
       "      <th></th>\n",
       "      <th>Route</th>\n",
       "      <th>ORIGIN_CITY_NAME</th>\n",
       "      <th>Origin_TYPE</th>\n",
       "      <th>Total_Departure_Delay</th>\n",
       "      <th>DEST_CITY_NAME</th>\n",
       "      <th>Destination_TYPE</th>\n",
       "      <th>Total_Arrival_Delay</th>\n",
       "      <th>Total_Flight_Num</th>\n",
       "      <th>Total_Passenger_Num</th>\n",
       "      <th>Total_Cost</th>\n",
       "      <th>Total_Revenue</th>\n",
       "      <th>Total_Profit</th>\n",
       "      <th>Total_Profit_Margin</th>\n",
       "      <th>Breakeven_Flights_Num</th>\n",
       "    </tr>\n",
       "  </thead>\n",
       "  <tbody>\n",
       "    <tr>\n",
       "      <th>2214</th>\n",
       "      <td>HNL-OGG</td>\n",
       "      <td>Honolulu, HI</td>\n",
       "      <td>large_airport</td>\n",
       "      <td>15822.00</td>\n",
       "      <td>Kahului, HI</td>\n",
       "      <td>medium_airport</td>\n",
       "      <td>18972.00</td>\n",
       "      <td>4794</td>\n",
       "      <td>620950.00</td>\n",
       "      <td>78918192.00</td>\n",
       "      <td>184577387.50</td>\n",
       "      <td>105659195.50</td>\n",
       "      <td>0.57</td>\n",
       "      <td>4084.00</td>\n",
       "    </tr>\n",
       "    <tr>\n",
       "      <th>577</th>\n",
       "      <td>JFK-LAX</td>\n",
       "      <td>New York, NY</td>\n",
       "      <td>large_airport</td>\n",
       "      <td>62522.00</td>\n",
       "      <td>Los Angeles, CA</td>\n",
       "      <td>large_airport</td>\n",
       "      <td>67672.00</td>\n",
       "      <td>6320</td>\n",
       "      <td>821694.00</td>\n",
       "      <td>279755860.00</td>\n",
       "      <td>408381918.00</td>\n",
       "      <td>128626058.00</td>\n",
       "      <td>0.31</td>\n",
       "      <td>4423.00</td>\n",
       "    </tr>\n",
       "    <tr>\n",
       "      <th>11</th>\n",
       "      <td>ATL-CLT</td>\n",
       "      <td>Atlanta, GA</td>\n",
       "      <td>large_airport</td>\n",
       "      <td>22207.00</td>\n",
       "      <td>Charlotte, NC</td>\n",
       "      <td>large_airport</td>\n",
       "      <td>24470.00</td>\n",
       "      <td>3076</td>\n",
       "      <td>399188.00</td>\n",
       "      <td>71400240.68</td>\n",
       "      <td>210372076.00</td>\n",
       "      <td>138971835.32</td>\n",
       "      <td>0.66</td>\n",
       "      <td>1993.00</td>\n",
       "    </tr>\n",
       "    <tr>\n",
       "      <th>132</th>\n",
       "      <td>DCA-ORD</td>\n",
       "      <td>Washington, DC</td>\n",
       "      <td>large_airport</td>\n",
       "      <td>48328.00</td>\n",
       "      <td>Chicago, IL</td>\n",
       "      <td>large_airport</td>\n",
       "      <td>57969.00</td>\n",
       "      <td>3695</td>\n",
       "      <td>478814.00</td>\n",
       "      <td>102629126.20</td>\n",
       "      <td>256165490.00</td>\n",
       "      <td>153536363.80</td>\n",
       "      <td>0.60</td>\n",
       "      <td>2166.00</td>\n",
       "    </tr>\n",
       "    <tr>\n",
       "      <th>1808</th>\n",
       "      <td>ATL-DCA</td>\n",
       "      <td>Atlanta, GA</td>\n",
       "      <td>large_airport</td>\n",
       "      <td>26269.00</td>\n",
       "      <td>Washington, DC</td>\n",
       "      <td>large_airport</td>\n",
       "      <td>30060.00</td>\n",
       "      <td>3488</td>\n",
       "      <td>453738.00</td>\n",
       "      <td>91497277.48</td>\n",
       "      <td>204862707.00</td>\n",
       "      <td>113365429.52</td>\n",
       "      <td>0.55</td>\n",
       "      <td>2770.00</td>\n",
       "    </tr>\n",
       "  </tbody>\n",
       "</table>\n",
       "</div>"
      ],
      "text/plain": [
       "        Route ORIGIN_CITY_NAME    Origin_TYPE  Total_Departure_Delay  \\\n",
       "2214  HNL-OGG     Honolulu, HI  large_airport               15822.00   \n",
       "577   JFK-LAX     New York, NY  large_airport               62522.00   \n",
       "11    ATL-CLT      Atlanta, GA  large_airport               22207.00   \n",
       "132   DCA-ORD   Washington, DC  large_airport               48328.00   \n",
       "1808  ATL-DCA      Atlanta, GA  large_airport               26269.00   \n",
       "\n",
       "       DEST_CITY_NAME Destination_TYPE  Total_Arrival_Delay  Total_Flight_Num  \\\n",
       "2214      Kahului, HI   medium_airport             18972.00              4794   \n",
       "577   Los Angeles, CA    large_airport             67672.00              6320   \n",
       "11      Charlotte, NC    large_airport             24470.00              3076   \n",
       "132       Chicago, IL    large_airport             57969.00              3695   \n",
       "1808   Washington, DC    large_airport             30060.00              3488   \n",
       "\n",
       "      Total_Passenger_Num   Total_Cost  Total_Revenue  Total_Profit  \\\n",
       "2214            620950.00  78918192.00   184577387.50  105659195.50   \n",
       "577             821694.00 279755860.00   408381918.00  128626058.00   \n",
       "11              399188.00  71400240.68   210372076.00  138971835.32   \n",
       "132             478814.00 102629126.20   256165490.00  153536363.80   \n",
       "1808            453738.00  91497277.48   204862707.00  113365429.52   \n",
       "\n",
       "      Total_Profit_Margin  Breakeven_Flights_Num  \n",
       "2214                 0.57                4084.00  \n",
       "577                  0.31                4423.00  \n",
       "11                   0.66                1993.00  \n",
       "132                  0.60                2166.00  \n",
       "1808                 0.55                2770.00  "
      ]
     },
     "execution_count": 64,
     "metadata": {},
     "output_type": "execute_result"
    }
   ],
   "source": [
    "task_4 = task_2.loc[[2214,577,11,132,1808],['Route','ORIGIN_CITY_NAME','Origin_TYPE','DEP_DELAY','DEST_CITY_NAME','Destination_TYPE','ARR_DELAY',\\\n",
    "                                             'Total_Flight_Num','Total_Passenger_Num','Total_Cost','Total_Revenue','Total_Profit']]\n",
    "task_4['Total_Profit_Margin'] = task_4['Total_Profit']/task_4['Total_Revenue']\n",
    "task_4['Breakeven_Flights_Num'] = (90000000/(task_4['Total_Profit']/task_4['Total_Flight_Num'])).apply(np.ceil)\n",
    "task_4.rename(columns={'DEP_DELAY':'Total_Departure_Delay',\n",
    "                       'ARR_DELAY':'Total_Arrival_Delay'})"
   ]
  },
  {
   "cell_type": "markdown",
   "id": "b29faed3-8bf8-47e9-be9b-5f84d6a44ca7",
   "metadata": {
    "tags": []
   },
   "source": [
    "## Task 5: Key Performance Indicators (KPI’s)\n",
    "Key Performance Indicators (KPI’s) that you recommend tracking in the future to measure the success of the round trip routes that you recommend."
   ]
  },
  {
   "cell_type": "markdown",
   "id": "90422b13-ab0c-4ff0-8b52-ba4bec9a05b7",
   "metadata": {},
   "source": [
    "here are the recommended Key Performance Indicators (KPIs) that should be tracked to measure the success of the recommended round trip routes:\n",
    "\n",
    "1. ***Profitability Metrics:***\n",
    "    * *Profit:* Tracking the actual profit generated by the round trip routes is a fundamental indicator of their success in contributing positively to the airline's bottom line.\n",
    "    * *Profit Margin:* Calculating the profit margin, which is the ratio of profit to revenue, offers insights into the efficiency of cost management and pricing strategies.\n",
    "\n",
    "2. ***Operational Performance:***\n",
    "    * *Flights Number:* Monitoring the frequency of flights along the round trip routes helps gauge the route's popularity and operational efficiency.\n",
    "    * *Occupancy Rate:* Measuring the occupancy rate (passenger load factor) provides an indication of how efficiently available seats are being filled.\n",
    "\n",
    "3. ***Customer Satisfaction and Experience:***\n",
    "    * *On-Time Performance:* Assessing the punctuality of flights by tracking Departure (DEP) and Arrival (ARR) delays helps maintain a positive customer experience.\n",
    "    * *Customer Reviews:* Gathering passenger feedback and reviews provides insights into customer satisfaction levels and areas for improvement.\n",
    "\n",
    "4. ***Revenue and Financial Health:***\n",
    "    * *Total Revenue:* Monitoring the total revenue generated from ticket sales and other revenue sources indicates the overall financial health of the route.\n",
    "    * *Yield:* Calculating the yield, which is the average fare per passenger, reflects the revenue generated per seat sold.\n",
    "\n",
    "5. ***Demand and Market Share:***\n",
    "    * *Passenger Volume:* Tracking the total number of passengers traveling the round trip routes gives a clear view of demand trends.\n",
    "    * *Market Share:* Analyzing the airline's market share on these routes compared to competitors offers insights into its competitive positioning.\n",
    "\n",
    "6. ***Operational Efficiency:***\n",
    "    * *Turnaround Time:* Monitoring the time taken for aircraft to be ready for the next flight after landing influences scheduling efficiency.\n",
    "    * *Utilization Rate:* Calculating the aircraft utilization rate indicates how effectively assets are being utilized.\n"
   ]
  },
  {
   "cell_type": "code",
   "execution_count": 65,
   "id": "da14fcdd-07b5-4b0c-b3ea-102f455a8b53",
   "metadata": {},
   "outputs": [],
   "source": [
    "# save final dataset for future analysis and visualization\n",
    "final = task_3[(task_3['Total_Flight_Num']>=100) & (task_3['Total_Passenger_Num']>=10000) & (task_3['Total_Profit']>0)]\n",
    "final['Total_Profit_Margin'] = final['Total_Profit']/final['Total_Revenue']\n",
    "final['Breakeven_Flights_Num'] = (90000000/(final['Total_Profit']/final['Total_Flight_Num'])).apply(np.ceil)\n",
    "final = final.join(task_3re['Score'])"
   ]
  },
  {
   "cell_type": "code",
   "execution_count": 66,
   "id": "d1e759f5-2b4c-4bd2-bc88-6556544d3c87",
   "metadata": {},
   "outputs": [
    {
     "name": "stdout",
     "output_type": "stream",
     "text": [
      "<class 'pandas.core.frame.DataFrame'>\n",
      "Int64Index: 2323 entries, 0 to 2792\n",
      "Data columns (total 31 columns):\n",
      " #   Column                 Non-Null Count  Dtype  \n",
      "---  ------                 --------------  -----  \n",
      " 0   Route                  2323 non-null   object \n",
      " 1   ORIGIN                 2323 non-null   object \n",
      " 2   DESTINATION            2323 non-null   object \n",
      " 3   ORIGIN_CITY_NAME       2323 non-null   object \n",
      " 4   DEST_CITY_NAME         2323 non-null   object \n",
      " 5   DEP_DELAY              2323 non-null   float64\n",
      " 6   ARR_DELAY              2323 non-null   float64\n",
      " 7   AIR_TIME               2323 non-null   float64\n",
      " 8   Total_Flight_Num       2323 non-null   int64  \n",
      " 9   DISTANCE               2323 non-null   float64\n",
      " 10  Total_Passenger_Num    2323 non-null   float64\n",
      " 11  ITIN_FARE              2323 non-null   float64\n",
      " 12  Origin_TYPE            2323 non-null   object \n",
      " 13  Origin_NAME            2323 non-null   object \n",
      " 14  Origin_Longitude       2323 non-null   float64\n",
      " 15  Origin_Latitude        2323 non-null   float64\n",
      " 16  Destination_TYPE       2323 non-null   object \n",
      " 17  Destination_NAME       2323 non-null   object \n",
      " 18  Destination_Longitude  2323 non-null   float64\n",
      " 19  Destination_Latitude   2323 non-null   float64\n",
      " 20  Cost_Maintenance       2323 non-null   float64\n",
      " 21  Cost_Operation         2323 non-null   int64  \n",
      " 22  Cost_Delay             2323 non-null   float64\n",
      " 23  Total_Cost             2323 non-null   float64\n",
      " 24  Revenue_Fare           2323 non-null   float64\n",
      " 25  Revenue_Baggage        2323 non-null   float64\n",
      " 26  Total_Revenue          2323 non-null   float64\n",
      " 27  Total_Profit           2323 non-null   float64\n",
      " 28  Total_Profit_Margin    2323 non-null   float64\n",
      " 29  Breakeven_Flights_Num  2323 non-null   float64\n",
      " 30  Score                  2323 non-null   float64\n",
      "dtypes: float64(20), int64(2), object(9)\n",
      "memory usage: 645.3+ KB\n"
     ]
    }
   ],
   "source": [
    "final.info()"
   ]
  },
  {
   "cell_type": "code",
   "execution_count": 67,
   "id": "eaa790e9-3da4-439f-8bfb-47318a13bbdc",
   "metadata": {},
   "outputs": [],
   "source": [
    "final.to_csv('final.csv', index=False)"
   ]
  },
  {
   "cell_type": "markdown",
   "id": "b659b5e7-bb20-4142-8276-8a7f6ff8315b",
   "metadata": {},
   "source": [
    "# 5. What's Next"
   ]
  },
  {
   "cell_type": "markdown",
   "id": "1044fc28-a217-499b-9938-e9c14b50ff2d",
   "metadata": {},
   "source": [
    "To ensure a comprehensive assessment of the success of the recommended round trip routes, we can do more job in:\n",
    "\n",
    "1. ***Tickets Data Enrichment:*** Expanding the tickets data sample size to gather a more representative dataset (like distribution of Business and Economy level tickets) for the routes is crucial. Having a larger dataset will allow for a more accurate estimation of fare charges, leading to more confident decisions. Examining the distribution of Business and Economy class seats on the flights can provide insights into passenger preferences and the revenue generated from different types of tickets.\n",
    "\n",
    "2. ***Aircraft Capacity:*** Now we assume all plane can accommodate 200 passengers, but in reality, thing could be different. It's essential to verify the passenger capacity of planes serving shorter routes, as this can significantly impact the revenue potential. Accurate information will ensure realistic revenue projections.\n",
    "\n",
    "3. ***Baggage Revenue:*** Reviewing the revenue generated from passengers checking in baggage can help refine the estimation of ancillary revenue. Considering the likelihood of a lower percentage of passengers checking in baggage for round-trip routes is important.\n",
    "\n",
    "4. ***Freight Transport Demand:*** Tracking the demand for freight transport can provide additional revenue streams and contribute to the overall profitability of the routes.\n",
    "\n",
    "5. ***City Income Distribution:*** Understanding the income distribution of the city served by the route is valuable. It can indicate the potential customer base and their purchasing power, influencing fare pricing strategies.\n",
    "\n",
    "6. ***Competition Analysis:*** Analyzing the existing airlines serving the recommended routes is crucial. Factors such as their schedules, promotional activities, and discounted ticket offerings can impact the competitiveness and success of the recommended routes.\n"
   ]
  }
 ],
 "metadata": {
  "kernelspec": {
   "display_name": "Python 3 (ipykernel)",
   "language": "python",
   "name": "python3"
  },
  "language_info": {
   "codemirror_mode": {
    "name": "ipython",
    "version": 3
   },
   "file_extension": ".py",
   "mimetype": "text/x-python",
   "name": "python",
   "nbconvert_exporter": "python",
   "pygments_lexer": "ipython3",
   "version": "3.9.13"
  }
 },
 "nbformat": 4,
 "nbformat_minor": 5
}
